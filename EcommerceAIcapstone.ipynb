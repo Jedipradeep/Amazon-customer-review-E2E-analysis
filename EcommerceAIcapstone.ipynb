{
 "cells": [
  {
   "cell_type": "code",
   "execution_count": 2,
   "metadata": {
    "id": "3F8JpKLpl_as"
   },
   "outputs": [],
   "source": [
    "import numpy as np\n",
    "import pandas as pd\n",
    "import matplotlib.pyplot as plt\n",
    "import seaborn as sns\n",
    "\n",
    "%matplotlib inline\n",
    "\n",
    "import re  \n",
    "from nltk import word_tokenize\n",
    "from nltk.tokenize import WordPunctTokenizer\n",
    "from nltk.stem.porter import PorterStemmer\n",
    "from nltk.stem.wordnet import WordNetLemmatizer\n",
    "\n",
    "from sklearn.feature_extraction.text import TfidfVectorizer,CountVectorizer\n",
    "# import string\n",
    "import warnings\n",
    "# ! pip install wordcloud\n",
    "#from wordcloud import WordCloud\n",
    "\n",
    "from sklearn.preprocessing import LabelEncoder,LabelBinarizer\n",
    "\n",
    "from sklearn.model_selection import train_test_split\n",
    "\n",
    "from sklearn.linear_model import LogisticRegression, RidgeClassifier, SGDClassifier\n",
    "from sklearn.naive_bayes import MultinomialNB, GaussianNB, BernoulliNB\n",
    "from sklearn.neighbors import KNeighborsClassifier\n",
    "from sklearn.tree import DecisionTreeClassifier\n",
    "from sklearn.svm import SVC\n",
    "from sklearn.ensemble import RandomForestClassifier, GradientBoostingClassifier, AdaBoostClassifier, BaggingClassifier\n",
    "from xgboost import XGBClassifier\n",
    "\n",
    "from sklearn.metrics import accuracy_score, f1_score, confusion_matrix, classification_report,precision_score, recall_score,roc_curve, roc_auc_score, auc\n",
    "\n",
    "import tensorflow as tf\n",
    "from tensorflow import keras\n",
    "from sklearn.utils import class_weight\n",
    "from sklearn.preprocessing import label_binarize\n",
    "from keras.layers import Dense, Embedding, LSTM, SpatialDropout1D,Dropout,GRU\n",
    "from keras.models import Sequential\n",
    "from keras.wrappers.scikit_learn import KerasClassifier\n",
    "from sklearn.model_selection import RandomizedSearchCV, KFold\n",
    "from sklearn.preprocessing import MinMaxScaler\n"
   ]
  },
  {
   "cell_type": "code",
   "execution_count": 3,
   "metadata": {
    "id": "I4WfgC4OmeZW"
   },
   "outputs": [],
   "source": [
    "#load test and train data\n",
    "train = pd.read_csv(\"train_data.csv\")\n",
    "test = pd.read_csv(\"test_data.csv\")"
   ]
  },
  {
   "cell_type": "code",
   "execution_count": 4,
   "metadata": {
    "colab": {
     "base_uri": "https://localhost:8080/",
     "height": 388
    },
    "id": "q0wsmzJ7mhGt",
    "outputId": "00213842-347e-4888-86c3-7dcde395fd7b"
   },
   "outputs": [
    {
     "data": {
      "text/html": [
       "<div>\n",
       "<style scoped>\n",
       "    .dataframe tbody tr th:only-of-type {\n",
       "        vertical-align: middle;\n",
       "    }\n",
       "\n",
       "    .dataframe tbody tr th {\n",
       "        vertical-align: top;\n",
       "    }\n",
       "\n",
       "    .dataframe thead th {\n",
       "        text-align: right;\n",
       "    }\n",
       "</style>\n",
       "<table border=\"1\" class=\"dataframe\">\n",
       "  <thead>\n",
       "    <tr style=\"text-align: right;\">\n",
       "      <th></th>\n",
       "      <th>name</th>\n",
       "      <th>brand</th>\n",
       "      <th>categories</th>\n",
       "      <th>primaryCategories</th>\n",
       "      <th>reviews.date</th>\n",
       "      <th>reviews.text</th>\n",
       "      <th>reviews.title</th>\n",
       "      <th>sentiment</th>\n",
       "    </tr>\n",
       "  </thead>\n",
       "  <tbody>\n",
       "    <tr>\n",
       "      <th>0</th>\n",
       "      <td>All-New Fire HD 8 Tablet, 8\" HD Display, Wi-Fi...</td>\n",
       "      <td>Amazon</td>\n",
       "      <td>Electronics,iPad &amp; Tablets,All Tablets,Fire Ta...</td>\n",
       "      <td>Electronics</td>\n",
       "      <td>2016-12-26T00:00:00.000Z</td>\n",
       "      <td>Purchased on Black FridayPros - Great Price (e...</td>\n",
       "      <td>Powerful tablet</td>\n",
       "      <td>Positive</td>\n",
       "    </tr>\n",
       "    <tr>\n",
       "      <th>1</th>\n",
       "      <td>Amazon - Echo Plus w/ Built-In Hub - Silver</td>\n",
       "      <td>Amazon</td>\n",
       "      <td>Amazon Echo,Smart Home,Networking,Home &amp; Tools...</td>\n",
       "      <td>Electronics,Hardware</td>\n",
       "      <td>2018-01-17T00:00:00.000Z</td>\n",
       "      <td>I purchased two Amazon in Echo Plus and two do...</td>\n",
       "      <td>Amazon Echo Plus AWESOME</td>\n",
       "      <td>Positive</td>\n",
       "    </tr>\n",
       "    <tr>\n",
       "      <th>2</th>\n",
       "      <td>Amazon Echo Show Alexa-enabled Bluetooth Speak...</td>\n",
       "      <td>Amazon</td>\n",
       "      <td>Amazon Echo,Virtual Assistant Speakers,Electro...</td>\n",
       "      <td>Electronics,Hardware</td>\n",
       "      <td>2017-12-20T00:00:00.000Z</td>\n",
       "      <td>Just an average Alexa option. Does show a few ...</td>\n",
       "      <td>Average</td>\n",
       "      <td>Neutral</td>\n",
       "    </tr>\n",
       "    <tr>\n",
       "      <th>3</th>\n",
       "      <td>Fire HD 10 Tablet, 10.1 HD Display, Wi-Fi, 16 ...</td>\n",
       "      <td>Amazon</td>\n",
       "      <td>eBook Readers,Fire Tablets,Electronics Feature...</td>\n",
       "      <td>Office Supplies,Electronics</td>\n",
       "      <td>2017-08-04T00:00:00.000Z</td>\n",
       "      <td>very good product. Exactly what I wanted, and ...</td>\n",
       "      <td>Greattttttt</td>\n",
       "      <td>Positive</td>\n",
       "    </tr>\n",
       "    <tr>\n",
       "      <th>4</th>\n",
       "      <td>Brand New Amazon Kindle Fire 16gb 7\" Ips Displ...</td>\n",
       "      <td>Amazon</td>\n",
       "      <td>Computers/Tablets &amp; Networking,Tablets &amp; eBook...</td>\n",
       "      <td>Electronics</td>\n",
       "      <td>2017-01-23T00:00:00.000Z</td>\n",
       "      <td>This is the 3rd one I've purchased. I've bough...</td>\n",
       "      <td>Very durable!</td>\n",
       "      <td>Positive</td>\n",
       "    </tr>\n",
       "  </tbody>\n",
       "</table>\n",
       "</div>"
      ],
      "text/plain": [
       "                                                name  ... sentiment\n",
       "0  All-New Fire HD 8 Tablet, 8\" HD Display, Wi-Fi...  ...  Positive\n",
       "1        Amazon - Echo Plus w/ Built-In Hub - Silver  ...  Positive\n",
       "2  Amazon Echo Show Alexa-enabled Bluetooth Speak...  ...   Neutral\n",
       "3  Fire HD 10 Tablet, 10.1 HD Display, Wi-Fi, 16 ...  ...  Positive\n",
       "4  Brand New Amazon Kindle Fire 16gb 7\" Ips Displ...  ...  Positive\n",
       "\n",
       "[5 rows x 8 columns]"
      ]
     },
     "execution_count": 4,
     "metadata": {},
     "output_type": "execute_result"
    }
   ],
   "source": [
    "train.head()"
   ]
  },
  {
   "cell_type": "code",
   "execution_count": 5,
   "metadata": {
    "colab": {
     "base_uri": "https://localhost:8080/",
     "height": 354
    },
    "id": "I0HJcmjEmmkR",
    "outputId": "ebac85eb-bab9-4bb2-fe07-42d6c87ebfd3"
   },
   "outputs": [
    {
     "data": {
      "text/html": [
       "<div>\n",
       "<style scoped>\n",
       "    .dataframe tbody tr th:only-of-type {\n",
       "        vertical-align: middle;\n",
       "    }\n",
       "\n",
       "    .dataframe tbody tr th {\n",
       "        vertical-align: top;\n",
       "    }\n",
       "\n",
       "    .dataframe thead th {\n",
       "        text-align: right;\n",
       "    }\n",
       "</style>\n",
       "<table border=\"1\" class=\"dataframe\">\n",
       "  <thead>\n",
       "    <tr style=\"text-align: right;\">\n",
       "      <th></th>\n",
       "      <th>name</th>\n",
       "      <th>brand</th>\n",
       "      <th>categories</th>\n",
       "      <th>primaryCategories</th>\n",
       "      <th>reviews.date</th>\n",
       "      <th>reviews.text</th>\n",
       "      <th>reviews.title</th>\n",
       "    </tr>\n",
       "  </thead>\n",
       "  <tbody>\n",
       "    <tr>\n",
       "      <th>0</th>\n",
       "      <td>Fire Tablet, 7 Display, Wi-Fi, 16 GB - Include...</td>\n",
       "      <td>Amazon</td>\n",
       "      <td>Fire Tablets,Computers/Tablets &amp; Networking,Ta...</td>\n",
       "      <td>Electronics</td>\n",
       "      <td>2016-05-23T00:00:00.000Z</td>\n",
       "      <td>Amazon kindle fire has a lot of free app and c...</td>\n",
       "      <td>very handy device</td>\n",
       "    </tr>\n",
       "    <tr>\n",
       "      <th>1</th>\n",
       "      <td>Amazon Echo Show Alexa-enabled Bluetooth Speak...</td>\n",
       "      <td>Amazon</td>\n",
       "      <td>Computers,Amazon Echo,Virtual Assistant Speake...</td>\n",
       "      <td>Electronics,Hardware</td>\n",
       "      <td>2018-01-02T00:00:00.000Z</td>\n",
       "      <td>The Echo Show is a great addition to the Amazo...</td>\n",
       "      <td>Another winner from Amazon</td>\n",
       "    </tr>\n",
       "    <tr>\n",
       "      <th>2</th>\n",
       "      <td>All-New Fire HD 8 Tablet, 8\" HD Display, Wi-Fi...</td>\n",
       "      <td>Amazon</td>\n",
       "      <td>Electronics,iPad &amp; Tablets,All Tablets,Fire Ta...</td>\n",
       "      <td>Electronics</td>\n",
       "      <td>2017-01-02T00:00:00.000Z</td>\n",
       "      <td>Great value from Best Buy. Bought at Christmas...</td>\n",
       "      <td>simple to use and reliable so far</td>\n",
       "    </tr>\n",
       "    <tr>\n",
       "      <th>3</th>\n",
       "      <td>Brand New Amazon Kindle Fire 16gb 7\" Ips Displ...</td>\n",
       "      <td>Amazon</td>\n",
       "      <td>Computers/Tablets &amp; Networking,Tablets &amp; eBook...</td>\n",
       "      <td>Electronics</td>\n",
       "      <td>2017-03-25T00:00:00.000Z</td>\n",
       "      <td>I use mine for email, Facebook ,games and to g...</td>\n",
       "      <td>Love it!!!</td>\n",
       "    </tr>\n",
       "    <tr>\n",
       "      <th>4</th>\n",
       "      <td>Amazon Echo Show Alexa-enabled Bluetooth Speak...</td>\n",
       "      <td>Amazon</td>\n",
       "      <td>Computers,Amazon Echo,Virtual Assistant Speake...</td>\n",
       "      <td>Electronics,Hardware</td>\n",
       "      <td>2017-11-15T00:00:00.000Z</td>\n",
       "      <td>This is a fantastic item &amp; the person I bought...</td>\n",
       "      <td>Fantastic!</td>\n",
       "    </tr>\n",
       "  </tbody>\n",
       "</table>\n",
       "</div>"
      ],
      "text/plain": [
       "                                                name  ...                      reviews.title\n",
       "0  Fire Tablet, 7 Display, Wi-Fi, 16 GB - Include...  ...                  very handy device\n",
       "1  Amazon Echo Show Alexa-enabled Bluetooth Speak...  ...         Another winner from Amazon\n",
       "2  All-New Fire HD 8 Tablet, 8\" HD Display, Wi-Fi...  ...  simple to use and reliable so far\n",
       "3  Brand New Amazon Kindle Fire 16gb 7\" Ips Displ...  ...                         Love it!!!\n",
       "4  Amazon Echo Show Alexa-enabled Bluetooth Speak...  ...                         Fantastic!\n",
       "\n",
       "[5 rows x 7 columns]"
      ]
     },
     "execution_count": 5,
     "metadata": {},
     "output_type": "execute_result"
    }
   ],
   "source": [
    "test.head()"
   ]
  },
  {
   "cell_type": "code",
   "execution_count": 6,
   "metadata": {
    "colab": {
     "base_uri": "https://localhost:8080/",
     "height": 405
    },
    "id": "DksyVMgdmuvJ",
    "outputId": "5d459660-8abc-458e-a98d-0a91f26c6ed8"
   },
   "outputs": [
    {
     "data": {
      "text/html": [
       "<div>\n",
       "<style scoped>\n",
       "    .dataframe tbody tr th:only-of-type {\n",
       "        vertical-align: middle;\n",
       "    }\n",
       "\n",
       "    .dataframe tbody tr th {\n",
       "        vertical-align: top;\n",
       "    }\n",
       "\n",
       "    .dataframe thead th {\n",
       "        text-align: right;\n",
       "    }\n",
       "</style>\n",
       "<table border=\"1\" class=\"dataframe\">\n",
       "  <thead>\n",
       "    <tr style=\"text-align: right;\">\n",
       "      <th></th>\n",
       "      <th>name</th>\n",
       "      <th>brand</th>\n",
       "      <th>categories</th>\n",
       "      <th>primaryCategories</th>\n",
       "      <th>reviews.date</th>\n",
       "      <th>reviews.text</th>\n",
       "      <th>reviews.title</th>\n",
       "      <th>sentiment</th>\n",
       "    </tr>\n",
       "  </thead>\n",
       "  <tbody>\n",
       "    <tr>\n",
       "      <th>0</th>\n",
       "      <td>Fire Tablet, 7 Display, Wi-Fi, 16 GB - Include...</td>\n",
       "      <td>Amazon</td>\n",
       "      <td>Fire Tablets,Computers/Tablets &amp; Networking,Ta...</td>\n",
       "      <td>Electronics</td>\n",
       "      <td>2016-05-23T00:00:00.000Z</td>\n",
       "      <td>Amazon kindle fire has a lot of free app and c...</td>\n",
       "      <td>very handy device</td>\n",
       "      <td>Positive</td>\n",
       "    </tr>\n",
       "    <tr>\n",
       "      <th>1</th>\n",
       "      <td>Amazon Echo Show Alexa-enabled Bluetooth Speak...</td>\n",
       "      <td>Amazon</td>\n",
       "      <td>Computers,Amazon Echo,Virtual Assistant Speake...</td>\n",
       "      <td>Electronics,Hardware</td>\n",
       "      <td>2018-01-02T00:00:00.000Z</td>\n",
       "      <td>The Echo Show is a great addition to the Amazo...</td>\n",
       "      <td>Another winner from Amazon</td>\n",
       "      <td>Positive</td>\n",
       "    </tr>\n",
       "    <tr>\n",
       "      <th>2</th>\n",
       "      <td>All-New Fire HD 8 Tablet, 8\" HD Display, Wi-Fi...</td>\n",
       "      <td>Amazon</td>\n",
       "      <td>Electronics,iPad &amp; Tablets,All Tablets,Fire Ta...</td>\n",
       "      <td>Electronics</td>\n",
       "      <td>2017-01-02T00:00:00.000Z</td>\n",
       "      <td>Great value from Best Buy. Bought at Christmas...</td>\n",
       "      <td>simple to use and reliable so far</td>\n",
       "      <td>Positive</td>\n",
       "    </tr>\n",
       "    <tr>\n",
       "      <th>3</th>\n",
       "      <td>Brand New Amazon Kindle Fire 16gb 7\" Ips Displ...</td>\n",
       "      <td>Amazon</td>\n",
       "      <td>Computers/Tablets &amp; Networking,Tablets &amp; eBook...</td>\n",
       "      <td>Electronics</td>\n",
       "      <td>2017-03-25T00:00:00.000Z</td>\n",
       "      <td>I use mine for email, Facebook ,games and to g...</td>\n",
       "      <td>Love it!!!</td>\n",
       "      <td>Positive</td>\n",
       "    </tr>\n",
       "    <tr>\n",
       "      <th>4</th>\n",
       "      <td>Amazon Echo Show Alexa-enabled Bluetooth Speak...</td>\n",
       "      <td>Amazon</td>\n",
       "      <td>Computers,Amazon Echo,Virtual Assistant Speake...</td>\n",
       "      <td>Electronics,Hardware</td>\n",
       "      <td>2017-11-15T00:00:00.000Z</td>\n",
       "      <td>This is a fantastic item &amp; the person I bought...</td>\n",
       "      <td>Fantastic!</td>\n",
       "      <td>Positive</td>\n",
       "    </tr>\n",
       "  </tbody>\n",
       "</table>\n",
       "</div>"
      ],
      "text/plain": [
       "                                                name  ... sentiment\n",
       "0  Fire Tablet, 7 Display, Wi-Fi, 16 GB - Include...  ...  Positive\n",
       "1  Amazon Echo Show Alexa-enabled Bluetooth Speak...  ...  Positive\n",
       "2  All-New Fire HD 8 Tablet, 8\" HD Display, Wi-Fi...  ...  Positive\n",
       "3  Brand New Amazon Kindle Fire 16gb 7\" Ips Displ...  ...  Positive\n",
       "4  Amazon Echo Show Alexa-enabled Bluetooth Speak...  ...  Positive\n",
       "\n",
       "[5 rows x 8 columns]"
      ]
     },
     "execution_count": 6,
     "metadata": {},
     "output_type": "execute_result"
    }
   ],
   "source": [
    "#load validation data\n",
    "test_val= pd.read_csv(\"test_data_hidden.csv\")\n",
    "test_val.head()"
   ]
  },
  {
   "cell_type": "code",
   "execution_count": 7,
   "metadata": {
    "colab": {
     "base_uri": "https://localhost:8080/"
    },
    "id": "4sCJEsQEmxKy",
    "outputId": "5a67529f-0d81-4178-c027-0145dbcdad5b"
   },
   "outputs": [
    {
     "data": {
      "text/plain": [
       "58"
      ]
     },
     "execution_count": 7,
     "metadata": {},
     "output_type": "execute_result"
    }
   ],
   "source": [
    "train.duplicated().sum()"
   ]
  },
  {
   "cell_type": "code",
   "execution_count": 8,
   "metadata": {
    "id": "sNZJGwuBm5Qx"
   },
   "outputs": [],
   "source": [
    "train = train.drop_duplicates().reset_index(drop=True)"
   ]
  },
  {
   "cell_type": "code",
   "execution_count": 9,
   "metadata": {
    "colab": {
     "base_uri": "https://localhost:8080/",
     "height": 206
    },
    "id": "_1cw_L-Hm97r",
    "outputId": "a93946e5-ffdf-43ef-df58-7cfe4f9d8d5e"
   },
   "outputs": [
    {
     "data": {
      "text/html": [
       "<div>\n",
       "<style scoped>\n",
       "    .dataframe tbody tr th:only-of-type {\n",
       "        vertical-align: middle;\n",
       "    }\n",
       "\n",
       "    .dataframe tbody tr th {\n",
       "        vertical-align: top;\n",
       "    }\n",
       "\n",
       "    .dataframe thead th {\n",
       "        text-align: right;\n",
       "    }\n",
       "</style>\n",
       "<table border=\"1\" class=\"dataframe\">\n",
       "  <thead>\n",
       "    <tr style=\"text-align: right;\">\n",
       "      <th></th>\n",
       "      <th>name</th>\n",
       "      <th>brand</th>\n",
       "      <th>categories</th>\n",
       "      <th>primaryCategories</th>\n",
       "      <th>reviews.date</th>\n",
       "      <th>reviews.text</th>\n",
       "      <th>reviews.title</th>\n",
       "      <th>sentiment</th>\n",
       "    </tr>\n",
       "  </thead>\n",
       "  <tbody>\n",
       "    <tr>\n",
       "      <th>count</th>\n",
       "      <td>3942</td>\n",
       "      <td>3942</td>\n",
       "      <td>3942</td>\n",
       "      <td>3942</td>\n",
       "      <td>3942</td>\n",
       "      <td>3942</td>\n",
       "      <td>3932</td>\n",
       "      <td>3942</td>\n",
       "    </tr>\n",
       "    <tr>\n",
       "      <th>unique</th>\n",
       "      <td>23</td>\n",
       "      <td>1</td>\n",
       "      <td>23</td>\n",
       "      <td>4</td>\n",
       "      <td>638</td>\n",
       "      <td>3598</td>\n",
       "      <td>2606</td>\n",
       "      <td>3</td>\n",
       "    </tr>\n",
       "    <tr>\n",
       "      <th>top</th>\n",
       "      <td>Amazon Echo Show Alexa-enabled Bluetooth Speak...</td>\n",
       "      <td>Amazon</td>\n",
       "      <td>Electronics,iPad &amp; Tablets,All Tablets,Fire Ta...</td>\n",
       "      <td>Electronics</td>\n",
       "      <td>2017-01-23T00:00:00.000Z</td>\n",
       "      <td>Got this for my Daughter-in-Law and she loves ...</td>\n",
       "      <td>Great tablet</td>\n",
       "      <td>Positive</td>\n",
       "    </tr>\n",
       "    <tr>\n",
       "      <th>freq</th>\n",
       "      <td>676</td>\n",
       "      <td>3942</td>\n",
       "      <td>628</td>\n",
       "      <td>2562</td>\n",
       "      <td>98</td>\n",
       "      <td>4</td>\n",
       "      <td>99</td>\n",
       "      <td>3694</td>\n",
       "    </tr>\n",
       "  </tbody>\n",
       "</table>\n",
       "</div>"
      ],
      "text/plain": [
       "                                                     name  ... sentiment\n",
       "count                                                3942  ...      3942\n",
       "unique                                                 23  ...         3\n",
       "top     Amazon Echo Show Alexa-enabled Bluetooth Speak...  ...  Positive\n",
       "freq                                                  676  ...      3694\n",
       "\n",
       "[4 rows x 8 columns]"
      ]
     },
     "execution_count": 9,
     "metadata": {},
     "output_type": "execute_result"
    }
   ],
   "source": [
    "train.describe()"
   ]
  },
  {
   "cell_type": "code",
   "execution_count": 10,
   "metadata": {
    "colab": {
     "base_uri": "https://localhost:8080/"
    },
    "id": "Xy1SQVnUm_7I",
    "outputId": "c37de4b8-45b4-4350-978a-62aedb5be970"
   },
   "outputs": [
    {
     "data": {
      "text/plain": [
       "name                  0\n",
       "brand                 0\n",
       "categories            0\n",
       "primaryCategories     0\n",
       "reviews.date          0\n",
       "reviews.text          0\n",
       "reviews.title        10\n",
       "sentiment             0\n",
       "dtype: int64"
      ]
     },
     "execution_count": 10,
     "metadata": {},
     "output_type": "execute_result"
    }
   ],
   "source": [
    "train.isnull().sum()"
   ]
  },
  {
   "cell_type": "code",
   "execution_count": 11,
   "metadata": {
    "colab": {
     "base_uri": "https://localhost:8080/",
     "height": 317
    },
    "id": "6DGd_mnOnLzP",
    "outputId": "087841ec-31fc-473a-ac86-77c6e3a44985"
   },
   "outputs": [
    {
     "data": {
      "text/plain": [
       "<matplotlib.axes._subplots.AxesSubplot at 0x7f5a24dc9a50>"
      ]
     },
     "execution_count": 11,
     "metadata": {},
     "output_type": "execute_result"
    },
    {
     "data": {
      "image/png": "[encoded data removed]",
      "text/plain": [
       "<Figure size 432x288 with 1 Axes>"
      ]
     },
     "metadata": {
      "needs_background": "light"
     },
     "output_type": "display_data"
    }
   ],
   "source": [
    "train['sentiment'].value_counts().plot(kind='bar')"
   ]
  },
  {
   "cell_type": "code",
   "execution_count": 12,
   "metadata": {
    "colab": {
     "base_uri": "https://localhost:8080/",
     "height": 203
    },
    "id": "Dw8EzAyOnQnJ",
    "outputId": "37b69fb3-6372-473d-bae5-c3f7f9583c7a"
   },
   "outputs": [
    {
     "data": {
      "text/html": [
       "<div>\n",
       "<style scoped>\n",
       "    .dataframe tbody tr th:only-of-type {\n",
       "        vertical-align: middle;\n",
       "    }\n",
       "\n",
       "    .dataframe tbody tr th {\n",
       "        vertical-align: top;\n",
       "    }\n",
       "\n",
       "    .dataframe thead th {\n",
       "        text-align: right;\n",
       "    }\n",
       "</style>\n",
       "<table border=\"1\" class=\"dataframe\">\n",
       "  <thead>\n",
       "    <tr style=\"text-align: right;\">\n",
       "      <th></th>\n",
       "      <th>reviews.text</th>\n",
       "      <th>reviews.title</th>\n",
       "    </tr>\n",
       "  </thead>\n",
       "  <tbody>\n",
       "    <tr>\n",
       "      <th>0</th>\n",
       "      <td>Purchased on Black FridayPros - Great Price (e...</td>\n",
       "      <td>Powerful tablet</td>\n",
       "    </tr>\n",
       "    <tr>\n",
       "      <th>1</th>\n",
       "      <td>I purchased two Amazon in Echo Plus and two do...</td>\n",
       "      <td>Amazon Echo Plus AWESOME</td>\n",
       "    </tr>\n",
       "    <tr>\n",
       "      <th>3</th>\n",
       "      <td>very good product. Exactly what I wanted, and ...</td>\n",
       "      <td>Greattttttt</td>\n",
       "    </tr>\n",
       "    <tr>\n",
       "      <th>4</th>\n",
       "      <td>This is the 3rd one I've purchased. I've bough...</td>\n",
       "      <td>Very durable!</td>\n",
       "    </tr>\n",
       "    <tr>\n",
       "      <th>5</th>\n",
       "      <td>This is a great product. Light weight. I wish ...</td>\n",
       "      <td>You will love it</td>\n",
       "    </tr>\n",
       "  </tbody>\n",
       "</table>\n",
       "</div>"
      ],
      "text/plain": [
       "                                        reviews.text             reviews.title\n",
       "0  Purchased on Black FridayPros - Great Price (e...           Powerful tablet\n",
       "1  I purchased two Amazon in Echo Plus and two do...  Amazon Echo Plus AWESOME\n",
       "3  very good product. Exactly what I wanted, and ...               Greattttttt\n",
       "4  This is the 3rd one I've purchased. I've bough...             Very durable!\n",
       "5  This is a great product. Light weight. I wish ...          You will love it"
      ]
     },
     "execution_count": 12,
     "metadata": {},
     "output_type": "execute_result"
    }
   ],
   "source": [
    "#Reviews containing Positive Sentiments\n",
    "train[train.sentiment=='Positive'][['reviews.text','reviews.title']].head()"
   ]
  },
  {
   "cell_type": "code",
   "execution_count": 13,
   "metadata": {
    "colab": {
     "base_uri": "https://localhost:8080/",
     "height": 203
    },
    "id": "ZIrySjGKnSoc",
    "outputId": "f614f0d1-16f3-449b-de41-a335c7c1122d"
   },
   "outputs": [
    {
     "data": {
      "text/html": [
       "<div>\n",
       "<style scoped>\n",
       "    .dataframe tbody tr th:only-of-type {\n",
       "        vertical-align: middle;\n",
       "    }\n",
       "\n",
       "    .dataframe tbody tr th {\n",
       "        vertical-align: top;\n",
       "    }\n",
       "\n",
       "    .dataframe thead th {\n",
       "        text-align: right;\n",
       "    }\n",
       "</style>\n",
       "<table border=\"1\" class=\"dataframe\">\n",
       "  <thead>\n",
       "    <tr style=\"text-align: right;\">\n",
       "      <th></th>\n",
       "      <th>reviews.text</th>\n",
       "      <th>reviews.title</th>\n",
       "    </tr>\n",
       "  </thead>\n",
       "  <tbody>\n",
       "    <tr>\n",
       "      <th>9</th>\n",
       "      <td>was cheap, can not run chrome stuff, returned ...</td>\n",
       "      <td>was cheap, can not run chrome stuff, returned</td>\n",
       "    </tr>\n",
       "    <tr>\n",
       "      <th>97</th>\n",
       "      <td>Worthless, except as a regular echo and a poor...</td>\n",
       "      <td>Useless screen so why pay for it?</td>\n",
       "    </tr>\n",
       "    <tr>\n",
       "      <th>104</th>\n",
       "      <td>Too bad Amazon turned this tablet into a big a...</td>\n",
       "      <td>Amazon Fire 7 Tablet</td>\n",
       "    </tr>\n",
       "    <tr>\n",
       "      <th>121</th>\n",
       "      <td>I bought this Kindle for my 7 year old grand-d...</td>\n",
       "      <td>Kid's Kindle</td>\n",
       "    </tr>\n",
       "    <tr>\n",
       "      <th>150</th>\n",
       "      <td>I am reading positive reviews and wish I could...</td>\n",
       "      <td>Have never purchased a more frustrating Device</td>\n",
       "    </tr>\n",
       "  </tbody>\n",
       "</table>\n",
       "</div>"
      ],
      "text/plain": [
       "                                          reviews.text                                   reviews.title\n",
       "9    was cheap, can not run chrome stuff, returned ...   was cheap, can not run chrome stuff, returned\n",
       "97   Worthless, except as a regular echo and a poor...               Useless screen so why pay for it?\n",
       "104  Too bad Amazon turned this tablet into a big a...                            Amazon Fire 7 Tablet\n",
       "121  I bought this Kindle for my 7 year old grand-d...                                    Kid's Kindle\n",
       "150  I am reading positive reviews and wish I could...  Have never purchased a more frustrating Device"
      ]
     },
     "execution_count": 13,
     "metadata": {},
     "output_type": "execute_result"
    }
   ],
   "source": [
    "#Reviews containing Negative Sentiments\n",
    "train[train.sentiment=='Negative'][['reviews.text','reviews.title']].head()"
   ]
  },
  {
   "cell_type": "code",
   "execution_count": 14,
   "metadata": {
    "colab": {
     "base_uri": "https://localhost:8080/",
     "height": 203
    },
    "id": "vCo0KYSbnXDZ",
    "outputId": "c731fe9a-2acd-4224-8a8c-14a8b602dea6"
   },
   "outputs": [
    {
     "data": {
      "text/html": [
       "<div>\n",
       "<style scoped>\n",
       "    .dataframe tbody tr th:only-of-type {\n",
       "        vertical-align: middle;\n",
       "    }\n",
       "\n",
       "    .dataframe tbody tr th {\n",
       "        vertical-align: top;\n",
       "    }\n",
       "\n",
       "    .dataframe thead th {\n",
       "        text-align: right;\n",
       "    }\n",
       "</style>\n",
       "<table border=\"1\" class=\"dataframe\">\n",
       "  <thead>\n",
       "    <tr style=\"text-align: right;\">\n",
       "      <th></th>\n",
       "      <th>reviews.text</th>\n",
       "      <th>reviews.title</th>\n",
       "    </tr>\n",
       "  </thead>\n",
       "  <tbody>\n",
       "    <tr>\n",
       "      <th>2</th>\n",
       "      <td>Just an average Alexa option. Does show a few ...</td>\n",
       "      <td>Average</td>\n",
       "    </tr>\n",
       "    <tr>\n",
       "      <th>6</th>\n",
       "      <td>My 7-year old daughter saved up to by this. He...</td>\n",
       "      <td>OK For Entry Level Tablet</td>\n",
       "    </tr>\n",
       "    <tr>\n",
       "      <th>17</th>\n",
       "      <td>Not as good as before the old kindle, just sea...</td>\n",
       "      <td>Not as good as before</td>\n",
       "    </tr>\n",
       "    <tr>\n",
       "      <th>59</th>\n",
       "      <td>There is nothing spectacular about this item b...</td>\n",
       "      <td>Does what it says, missing one key feature</td>\n",
       "    </tr>\n",
       "    <tr>\n",
       "      <th>95</th>\n",
       "      <td>It's unfair for me to rate this product cause ...</td>\n",
       "      <td>Haven't set it up yet</td>\n",
       "    </tr>\n",
       "  </tbody>\n",
       "</table>\n",
       "</div>"
      ],
      "text/plain": [
       "                                         reviews.text                               reviews.title\n",
       "2   Just an average Alexa option. Does show a few ...                                     Average\n",
       "6   My 7-year old daughter saved up to by this. He...                   OK For Entry Level Tablet\n",
       "17  Not as good as before the old kindle, just sea...                       Not as good as before\n",
       "59  There is nothing spectacular about this item b...  Does what it says, missing one key feature\n",
       "95  It's unfair for me to rate this product cause ...                       Haven't set it up yet"
      ]
     },
     "execution_count": 14,
     "metadata": {},
     "output_type": "execute_result"
    }
   ],
   "source": [
    "#Reviews containing Neutral Sentiments\n",
    "train[train.sentiment=='Neutral'][['reviews.text','reviews.title']].head()"
   ]
  },
  {
   "cell_type": "code",
   "execution_count": 15,
   "metadata": {
    "colab": {
     "base_uri": "https://localhost:8080/",
     "height": 758
    },
    "id": "swQ4NJtjnbxN",
    "outputId": "e3f9fe20-3c8c-4e99-f105-ba01b163d04e"
   },
   "outputs": [
    {
     "data": {
      "text/html": [
       "<div>\n",
       "<style scoped>\n",
       "    .dataframe tbody tr th:only-of-type {\n",
       "        vertical-align: middle;\n",
       "    }\n",
       "\n",
       "    .dataframe tbody tr th {\n",
       "        vertical-align: top;\n",
       "    }\n",
       "\n",
       "    .dataframe thead th {\n",
       "        text-align: right;\n",
       "    }\n",
       "</style>\n",
       "<table border=\"1\" class=\"dataframe\">\n",
       "  <thead>\n",
       "    <tr style=\"text-align: right;\">\n",
       "      <th></th>\n",
       "      <th>name</th>\n",
       "    </tr>\n",
       "  </thead>\n",
       "  <tbody>\n",
       "    <tr>\n",
       "      <th>Amazon Echo Show Alexa-enabled Bluetooth Speaker with 7\" Screen</th>\n",
       "      <td>676</td>\n",
       "    </tr>\n",
       "    <tr>\n",
       "      <th>All-New Fire HD 8 Tablet, 8\" HD Display, Wi-Fi, 16 GB - Includes Special Offers, Magenta</th>\n",
       "      <td>628</td>\n",
       "    </tr>\n",
       "    <tr>\n",
       "      <th>Amazon - Echo Plus w/ Built-In Hub - Silver</th>\n",
       "      <td>483</td>\n",
       "    </tr>\n",
       "    <tr>\n",
       "      <th>Fire Kids Edition Tablet, 7 Display, Wi-Fi, 16 GB, Blue Kid-Proof Case</th>\n",
       "      <td>446</td>\n",
       "    </tr>\n",
       "    <tr>\n",
       "      <th>Brand New Amazon Kindle Fire 16gb 7\" Ips Display Tablet Wifi 16 Gb Blue</th>\n",
       "      <td>340</td>\n",
       "    </tr>\n",
       "    <tr>\n",
       "      <th>Fire Tablet, 7 Display, Wi-Fi, 16 GB - Includes Special Offers, Black</th>\n",
       "      <td>294</td>\n",
       "    </tr>\n",
       "    <tr>\n",
       "      <th>Amazon Tap - Alexa-Enabled Portable Bluetooth Speaker</th>\n",
       "      <td>177</td>\n",
       "    </tr>\n",
       "    <tr>\n",
       "      <th>Fire Kids Edition Tablet, 7 Display, Wi-Fi, 16 GB, Green Kid-Proof Case</th>\n",
       "      <td>175</td>\n",
       "    </tr>\n",
       "    <tr>\n",
       "      <th>Kindle E-reader - White, 6 Glare-Free Touchscreen Display, Wi-Fi - Includes Special Offers</th>\n",
       "      <td>122</td>\n",
       "    </tr>\n",
       "    <tr>\n",
       "      <th>Fire HD 10 Tablet, 10.1 HD Display, Wi-Fi, 16 GB - Includes Special Offers, Silver Aluminum</th>\n",
       "      <td>82</td>\n",
       "    </tr>\n",
       "    <tr>\n",
       "      <th>Fire Tablet with Alexa, 7\" Display, 16 GB, Magenta - with Special Offers</th>\n",
       "      <td>80</td>\n",
       "    </tr>\n",
       "    <tr>\n",
       "      <th>Amazon Kindle E-Reader 6\" Wifi (8th Generation, 2016)</th>\n",
       "      <td>76</td>\n",
       "    </tr>\n",
       "    <tr>\n",
       "      <th>Amazon - Kindle Voyage - 6\" - 4GB - Black</th>\n",
       "      <td>65</td>\n",
       "    </tr>\n",
       "    <tr>\n",
       "      <th>All-New Fire HD 8 Tablet, 8 HD Display, Wi-Fi, 32 GB - Includes Special Offers, Blue</th>\n",
       "      <td>56</td>\n",
       "    </tr>\n",
       "    <tr>\n",
       "      <th>All-New Fire HD 8 Tablet, 8\" HD Display, Wi-Fi, 32 GB - Includes Special Offers, Black</th>\n",
       "      <td>45</td>\n",
       "    </tr>\n",
       "    <tr>\n",
       "      <th>Fire HD 8 Tablet with Alexa, 8\" HD Display, 32 GB, Tangerine - with Special Offers</th>\n",
       "      <td>43</td>\n",
       "    </tr>\n",
       "    <tr>\n",
       "      <th>All-New Fire HD 8 Tablet, 8 HD Display, Wi-Fi, 16 GB - Includes Special Offers, Blue</th>\n",
       "      <td>35</td>\n",
       "    </tr>\n",
       "    <tr>\n",
       "      <th>All-New Fire HD 8 Tablet, 8\" HD Display, Wi-Fi, 32 GB - Includes Special Offers, Magenta</th>\n",
       "      <td>35</td>\n",
       "    </tr>\n",
       "    <tr>\n",
       "      <th>Kindle Oasis E-reader with Leather Charging Cover - Black, 6\" High-Resolution Display (300 ppi), Wi-Fi - Includes Special Offers</th>\n",
       "      <td>26</td>\n",
       "    </tr>\n",
       "    <tr>\n",
       "      <th>Amazon 9W PowerFast Official OEM USB Charger and Power Adapter for Fire Tablets and Kindle eReaders</th>\n",
       "      <td>20</td>\n",
       "    </tr>\n",
       "    <tr>\n",
       "      <th>Amazon - Kindle Voyage - 4GB - Wi-Fi + 3G - Black</th>\n",
       "      <td>19</td>\n",
       "    </tr>\n",
       "    <tr>\n",
       "      <th>Kindle Oasis E-reader with Leather Charging Cover - Merlot, 6 High-Resolution Display (300 ppi), Wi-Fi - Includes Special Offers</th>\n",
       "      <td>17</td>\n",
       "    </tr>\n",
       "    <tr>\n",
       "      <th>Amazon Fire TV with 4K Ultra HD and Alexa Voice Remote (Pendant Design) | Streaming Media Player</th>\n",
       "      <td>2</td>\n",
       "    </tr>\n",
       "  </tbody>\n",
       "</table>\n",
       "</div>"
      ],
      "text/plain": [
       "                                                    name\n",
       "Amazon Echo Show Alexa-enabled Bluetooth Speake...   676\n",
       "All-New Fire HD 8 Tablet, 8\" HD Display, Wi-Fi,...   628\n",
       "Amazon - Echo Plus w/ Built-In Hub - Silver          483\n",
       "Fire Kids Edition Tablet, 7 Display, Wi-Fi, 16 ...   446\n",
       "Brand New Amazon Kindle Fire 16gb 7\" Ips Displa...   340\n",
       "Fire Tablet, 7 Display, Wi-Fi, 16 GB - Includes...   294\n",
       "Amazon Tap - Alexa-Enabled Portable Bluetooth S...   177\n",
       "Fire Kids Edition Tablet, 7 Display, Wi-Fi, 16 ...   175\n",
       "Kindle E-reader - White, 6 Glare-Free Touchscre...   122\n",
       "Fire HD 10 Tablet, 10.1 HD Display, Wi-Fi, 16 G...    82\n",
       "Fire Tablet with Alexa, 7\" Display, 16 GB, Mage...    80\n",
       "Amazon Kindle E-Reader 6\" Wifi (8th Generation,...    76\n",
       "Amazon - Kindle Voyage - 6\" - 4GB - Black             65\n",
       "All-New Fire HD 8 Tablet, 8 HD Display, Wi-Fi, ...    56\n",
       "All-New Fire HD 8 Tablet, 8\" HD Display, Wi-Fi,...    45\n",
       "Fire HD 8 Tablet with Alexa, 8\" HD Display, 32 ...    43\n",
       "All-New Fire HD 8 Tablet, 8 HD Display, Wi-Fi, ...    35\n",
       "All-New Fire HD 8 Tablet, 8\" HD Display, Wi-Fi,...    35\n",
       "Kindle Oasis E-reader with Leather Charging Cov...    26\n",
       "Amazon 9W PowerFast Official OEM USB Charger an...    20\n",
       "Amazon - Kindle Voyage - 4GB - Wi-Fi + 3G - Black     19\n",
       "Kindle Oasis E-reader with Leather Charging Cov...    17\n",
       "Amazon Fire TV with 4K Ultra HD and Alexa Voice...     2"
      ]
     },
     "execution_count": 15,
     "metadata": {},
     "output_type": "execute_result"
    }
   ],
   "source": [
    "#products with their value counts\n",
    "pd.DataFrame(train.name.value_counts())"
   ]
  },
  {
   "cell_type": "code",
   "execution_count": 16,
   "metadata": {
    "colab": {
     "base_uri": "https://localhost:8080/",
     "height": 1000
    },
    "id": "RIDC29s7njCe",
    "outputId": "1366cc02-f1c7-42ae-bf43-fcfc111e1135"
   },
   "outputs": [
    {
     "data": {
      "text/html": [
       "<div>\n",
       "<style scoped>\n",
       "    .dataframe tbody tr th:only-of-type {\n",
       "        vertical-align: middle;\n",
       "    }\n",
       "\n",
       "    .dataframe tbody tr th {\n",
       "        vertical-align: top;\n",
       "    }\n",
       "\n",
       "    .dataframe thead th {\n",
       "        text-align: right;\n",
       "    }\n",
       "</style>\n",
       "<table border=\"1\" class=\"dataframe\">\n",
       "  <thead>\n",
       "    <tr style=\"text-align: right;\">\n",
       "      <th></th>\n",
       "      <th>categories</th>\n",
       "    </tr>\n",
       "  </thead>\n",
       "  <tbody>\n",
       "    <tr>\n",
       "      <th>Electronics,iPad &amp; Tablets,All Tablets,Fire Tablets,Tablets,Computers &amp; Tablets</th>\n",
       "      <td>628</td>\n",
       "    </tr>\n",
       "    <tr>\n",
       "      <th>Computers,Amazon Echo,Virtual Assistant Speakers,Audio &amp; Video Components,Electronics Features,Computer Accessories,Home &amp; Tools,See more Amazon Echo Show Smart Assistant - White,Smart Home Automation,Electronics,TVs Entertainment,Speakers,Smart Hub &amp; Kits,Digital Device 3,Consumer Electronics,Wireless Speakers,Home Improvement,Amazon Home,Amazon,Computer Speakers,Voice-Enabled Smart Assistants</th>\n",
       "      <td>514</td>\n",
       "    </tr>\n",
       "    <tr>\n",
       "      <th>Amazon Echo,Smart Home,Networking,Home &amp; Tools,Home Improvement,Smart Home Automation,Voice Assistants,Amazon Home,Amazon,Smart Hub &amp; Kits,Digital Device 3</th>\n",
       "      <td>483</td>\n",
       "    </tr>\n",
       "    <tr>\n",
       "      <th>Computers,Fire Tablets,Electronics Features,Computer Accessories,Tablets,Top Rated,Amazon Tablets,Electronics,Kids' Tablets,iPad &amp; Tablets,Cases &amp; Bags,Electronics, Tech Toys, Movies, Music,Computers &amp; Tablets</th>\n",
       "      <td>446</td>\n",
       "    </tr>\n",
       "    <tr>\n",
       "      <th>Computers/Tablets &amp; Networking,Tablets &amp; eBook Readers,Computers &amp; Tablets,Tablets,All Tablets</th>\n",
       "      <td>340</td>\n",
       "    </tr>\n",
       "    <tr>\n",
       "      <th>Fire Tablets,Computers/Tablets &amp; Networking,Tablets,All Tablets,Amazon Tablets,Frys,Computers &amp; Tablets,Tablets &amp; eBook Readers</th>\n",
       "      <td>294</td>\n",
       "    </tr>\n",
       "    <tr>\n",
       "      <th>Fire Tablets,Tablets,All Tablets,Amazon Tablets,Computers &amp; Tablets</th>\n",
       "      <td>231</td>\n",
       "    </tr>\n",
       "    <tr>\n",
       "      <th>Amazon Echo,Home Theater &amp; Audio,MP3 MP4 Player Accessories,Electronics,Portable Audio,Compact Radios Stereos,Smart Hubs &amp; Wireless Routers,Featured Brands,Smart Home &amp; Connected Living,Home Security,Kindle Store,Electronic Components,Home Automation,Mobile Bluetooth Speakers,Home, Garage &amp; Office,Amazon Tap,Home,Mobile Speakers,TVs &amp; Electronics,Portable Bluetooth Speakers,Bluetooth &amp; Wireless Speakers,Electronics Features,Frys,Speakers,Mobile,Digital Device 3,Smart Home,Home Improvement,Electronics, Tech Toys, Movies, Music,Smart Home &amp; Home Automation Devices,Smart Hubs,MP3 Player Accessories,Home Safety &amp; Security,Voice Assistants,Amazon Home,Alarms &amp; Sensors,Portable Audio &amp; Electronics,Amazon Devices,Audio,Bluetooth Speakers,MP3 Accessories,All Bluetooth &amp; Wireless Speakers</th>\n",
       "      <td>177</td>\n",
       "    </tr>\n",
       "    <tr>\n",
       "      <th>Amazon Echo,Virtual Assistant Speakers,Electronics Features,Home &amp; Tools,Smart Home Automation,TVs Entertainment,Speakers,Smart Hub &amp; Kits,Digital Device 3,Wireless Speakers,Smart Home,Home Improvement,Voice Assistants,Amazon Home,Amazon</th>\n",
       "      <td>162</td>\n",
       "    </tr>\n",
       "    <tr>\n",
       "      <th>Office,eBook Readers,Electronics Features,Walmart for Business,Tablets,Electronics,Amazon Ereaders,Office Electronics,iPad &amp; Tablets,Kindle E-readers,All Tablets,Amazon Book Reader,Computers &amp; Tablets</th>\n",
       "      <td>122</td>\n",
       "    </tr>\n",
       "    <tr>\n",
       "      <th>eBook Readers,Fire Tablets,Electronics Features,Tablets,Amazon Tablets,College Ipads &amp; Tablets,Electronics,Electronics Deals,College Electronics,Featured Brands,All Tablets,Computers &amp; Tablets,Back To College,Amazon Devices,Tablets &amp; E-Readers</th>\n",
       "      <td>82</td>\n",
       "    </tr>\n",
       "    <tr>\n",
       "      <th>Tablets,Fire Tablets,Electronics,iPad &amp; Tablets,Android Tablets,Computers &amp; Tablets,All Tablets</th>\n",
       "      <td>80</td>\n",
       "    </tr>\n",
       "    <tr>\n",
       "      <th>Computers,Electronics Features,Tablets,Electronics,iPad &amp; Tablets,Kindle E-readers,iPad Accessories,Used:Tablets,E-Readers,E-Readers &amp; Accessories,Computers/Tablets &amp; Networking,Used:Computers Accessories,iPads Tablets,All Tablets,Tablets &amp; E-readers,Computers &amp; Tablets,Amazon,Tablets &amp; eBook Readers</th>\n",
       "      <td>76</td>\n",
       "    </tr>\n",
       "    <tr>\n",
       "      <th>eBook Readers,Electronics Features,Walmart for Business,Tablets,See more Amazon Kindle Voyage (Wi-Fi),Electronics,Office Electronics,iPad &amp; Tablets,Kindle E-readers,E-Readers &amp; Accessories,All Tablets,See more Amazon Kindle Voyage 4GB, Wi-Fi  3G (Unlocked...,Computers &amp; Tablets</th>\n",
       "      <td>65</td>\n",
       "    </tr>\n",
       "    <tr>\n",
       "      <th>Fire Tablets,Tablets,Computers/Tablets &amp; Networking,Other Computers &amp; Networking,Computers &amp; Tablets,All Tablets</th>\n",
       "      <td>45</td>\n",
       "    </tr>\n",
       "    <tr>\n",
       "      <th>Tablets,Fire Tablets,Computers &amp; Tablets,All Tablets</th>\n",
       "      <td>43</td>\n",
       "    </tr>\n",
       "    <tr>\n",
       "      <th>Fire Tablets,Tablets,All Tablets,Amazon Tablets</th>\n",
       "      <td>35</td>\n",
       "    </tr>\n",
       "    <tr>\n",
       "      <th>Tablets,Fire Tablets,Electronics,Computers,Computer Components,Hard Drives &amp; Storage,Computers &amp; Tablets,All Tablets</th>\n",
       "      <td>35</td>\n",
       "    </tr>\n",
       "    <tr>\n",
       "      <th>Kindle E-readers,Electronics Features,Computers &amp; Tablets,E-Readers &amp; Accessories,E-Readers,eBook Readers</th>\n",
       "      <td>26</td>\n",
       "    </tr>\n",
       "    <tr>\n",
       "      <th>Computers &amp; Accessories,Tablet &amp; E-Reader Accessories,Amazon Devices &amp; Accessories,Electronics,Power Adapters &amp; Cables,Computers Features,Cell Phone Accessories,Cell Phone Batteries &amp; Power,Digital Device Accessory,Tablet Accessories,Featured Brands,Kindle Fire (2nd Generation) Accessories,Kindle Store,Power Adapters Cables,Electrical,Home,Tablets &amp; E-Readers,Chargers Adapters,Chargers &amp; Adapters,Electronics Features,Fire Tablet Accessories,Amazon Book Reader Accessory,Cell Phones,Amazon Device Accessories,Home Improvement,Fire (5th Generation) Accessories,Amazon Devices,Cables &amp; Chargers</th>\n",
       "      <td>20</td>\n",
       "    </tr>\n",
       "    <tr>\n",
       "      <th>Computers &amp; Tablets,E-Readers &amp; Accessories,eBook Readers,Kindle E-readers</th>\n",
       "      <td>19</td>\n",
       "    </tr>\n",
       "    <tr>\n",
       "      <th>eBook Readers,E-Readers &amp; Accessories,Amazon Book Reader,Computers &amp; Tablets,Amazon Ereaders,Kindle E-readers,E-Readers</th>\n",
       "      <td>17</td>\n",
       "    </tr>\n",
       "    <tr>\n",
       "      <th>Amazon SMP,TV, Video &amp; Home Audio,Electronics,Electronics Deals,TVs Entertainment,Digital Device 4,Tvs &amp; Home Theater,Featured Brands,Video Devices &amp; TV Tuners,Consumer Electronics,TV &amp; Video,Internet &amp; Media Streamers,Streaming Media Players,Fire TV,Streaming Devices,Amazon Devices,Amazon,See more Amazon Fire TV with Alexa Voice Remote Digital...</th>\n",
       "      <td>2</td>\n",
       "    </tr>\n",
       "  </tbody>\n",
       "</table>\n",
       "</div>"
      ],
      "text/plain": [
       "                                                    categories\n",
       "Electronics,iPad & Tablets,All Tablets,Fire Tab...         628\n",
       "Computers,Amazon Echo,Virtual Assistant Speaker...         514\n",
       "Amazon Echo,Smart Home,Networking,Home & Tools,...         483\n",
       "Computers,Fire Tablets,Electronics Features,Com...         446\n",
       "Computers/Tablets & Networking,Tablets & eBook ...         340\n",
       "Fire Tablets,Computers/Tablets & Networking,Tab...         294\n",
       "Fire Tablets,Tablets,All Tablets,Amazon Tablets...         231\n",
       "Amazon Echo,Home Theater & Audio,MP3 MP4 Player...         177\n",
       "Amazon Echo,Virtual Assistant Speakers,Electron...         162\n",
       "Office,eBook Readers,Electronics Features,Walma...         122\n",
       "eBook Readers,Fire Tablets,Electronics Features...          82\n",
       "Tablets,Fire Tablets,Electronics,iPad & Tablets...          80\n",
       "Computers,Electronics Features,Tablets,Electron...          76\n",
       "eBook Readers,Electronics Features,Walmart for ...          65\n",
       "Fire Tablets,Tablets,Computers/Tablets & Networ...          45\n",
       "Tablets,Fire Tablets,Computers & Tablets,All Ta...          43\n",
       "Fire Tablets,Tablets,All Tablets,Amazon Tablets             35\n",
       "Tablets,Fire Tablets,Electronics,Computers,Comp...          35\n",
       "Kindle E-readers,Electronics Features,Computers...          26\n",
       "Computers & Accessories,Tablet & E-Reader Acces...          20\n",
       "Computers & Tablets,E-Readers & Accessories,eBo...          19\n",
       "eBook Readers,E-Readers & Accessories,Amazon Bo...          17\n",
       "Amazon SMP,TV, Video & Home Audio,Electronics,E...           2"
      ]
     },
     "execution_count": 16,
     "metadata": {},
     "output_type": "execute_result"
    }
   ],
   "source": [
    "pd.DataFrame(train.categories.value_counts())"
   ]
  },
  {
   "cell_type": "code",
   "execution_count": 17,
   "metadata": {
    "colab": {
     "base_uri": "https://localhost:8080/",
     "height": 80
    },
    "id": "UZXBypo9nljS",
    "outputId": "328c078e-b252-4037-a368-a7f6c064e9c9"
   },
   "outputs": [
    {
     "data": {
      "text/html": [
       "<div>\n",
       "<style scoped>\n",
       "    .dataframe tbody tr th:only-of-type {\n",
       "        vertical-align: middle;\n",
       "    }\n",
       "\n",
       "    .dataframe tbody tr th {\n",
       "        vertical-align: top;\n",
       "    }\n",
       "\n",
       "    .dataframe thead th {\n",
       "        text-align: right;\n",
       "    }\n",
       "</style>\n",
       "<table border=\"1\" class=\"dataframe\">\n",
       "  <thead>\n",
       "    <tr style=\"text-align: right;\">\n",
       "      <th></th>\n",
       "      <th>brand</th>\n",
       "    </tr>\n",
       "  </thead>\n",
       "  <tbody>\n",
       "    <tr>\n",
       "      <th>Amazon</th>\n",
       "      <td>3942</td>\n",
       "    </tr>\n",
       "  </tbody>\n",
       "</table>\n",
       "</div>"
      ],
      "text/plain": [
       "        brand\n",
       "Amazon   3942"
      ]
     },
     "execution_count": 17,
     "metadata": {},
     "output_type": "execute_result"
    }
   ],
   "source": [
    "pd.DataFrame(train.brand.value_counts())"
   ]
  },
  {
   "cell_type": "code",
   "execution_count": null,
   "metadata": {
    "id": "Q1uZw0P7nrxJ"
   },
   "outputs": [],
   "source": [
    "# now we have see how positive,negative and neutral review looks like and also the checked the counts and can see its very imbalance having more positive reviews"
   ]
  },
  {
   "cell_type": "code",
   "execution_count": null,
   "metadata": {
    "id": "mJFh8nU7nyGU"
   },
   "outputs": [],
   "source": [
    "# clean the data"
   ]
  },
  {
   "cell_type": "code",
   "execution_count": null,
   "metadata": {
    "id": "BowqIcFUn41j"
   },
   "outputs": [],
   "source": [
    "#as all the producst belong to amazon brand dropping the column from all the data sets"
   ]
  },
  {
   "cell_type": "code",
   "execution_count": 18,
   "metadata": {
    "id": "yCgTBSfVn7oG"
   },
   "outputs": [],
   "source": [
    "del test['brand']\n",
    "del train['brand']\n",
    "del test_val['brand']"
   ]
  },
  {
   "cell_type": "code",
   "execution_count": 19,
   "metadata": {
    "colab": {
     "base_uri": "https://localhost:8080/",
     "height": 522
    },
    "id": "R92mUDiFn_e3",
    "outputId": "fd1dabb8-9abe-40c5-fdaa-e64c5c7e0e84"
   },
   "outputs": [
    {
     "data": {
      "text/html": [
       "<div>\n",
       "<style scoped>\n",
       "    .dataframe tbody tr th:only-of-type {\n",
       "        vertical-align: middle;\n",
       "    }\n",
       "\n",
       "    .dataframe tbody tr th {\n",
       "        vertical-align: top;\n",
       "    }\n",
       "\n",
       "    .dataframe thead th {\n",
       "        text-align: right;\n",
       "    }\n",
       "</style>\n",
       "<table border=\"1\" class=\"dataframe\">\n",
       "  <thead>\n",
       "    <tr style=\"text-align: right;\">\n",
       "      <th></th>\n",
       "      <th>name</th>\n",
       "      <th>categories</th>\n",
       "      <th>primaryCategories</th>\n",
       "      <th>reviews.text</th>\n",
       "      <th>reviews.title</th>\n",
       "      <th>sentiment</th>\n",
       "      <th>reviews_day</th>\n",
       "      <th>reviews_month</th>\n",
       "      <th>reviews_year</th>\n",
       "    </tr>\n",
       "  </thead>\n",
       "  <tbody>\n",
       "    <tr>\n",
       "      <th>0</th>\n",
       "      <td>All-New Fire HD 8 Tablet, 8\" HD Display, Wi-Fi...</td>\n",
       "      <td>Electronics,iPad &amp; Tablets,All Tablets,Fire Ta...</td>\n",
       "      <td>Electronics</td>\n",
       "      <td>Purchased on Black FridayPros - Great Price (e...</td>\n",
       "      <td>Powerful tablet</td>\n",
       "      <td>Positive</td>\n",
       "      <td>26</td>\n",
       "      <td>12</td>\n",
       "      <td>2016</td>\n",
       "    </tr>\n",
       "    <tr>\n",
       "      <th>1</th>\n",
       "      <td>Amazon - Echo Plus w/ Built-In Hub - Silver</td>\n",
       "      <td>Amazon Echo,Smart Home,Networking,Home &amp; Tools...</td>\n",
       "      <td>Electronics,Hardware</td>\n",
       "      <td>I purchased two Amazon in Echo Plus and two do...</td>\n",
       "      <td>Amazon Echo Plus AWESOME</td>\n",
       "      <td>Positive</td>\n",
       "      <td>17</td>\n",
       "      <td>1</td>\n",
       "      <td>2018</td>\n",
       "    </tr>\n",
       "    <tr>\n",
       "      <th>2</th>\n",
       "      <td>Amazon Echo Show Alexa-enabled Bluetooth Speak...</td>\n",
       "      <td>Amazon Echo,Virtual Assistant Speakers,Electro...</td>\n",
       "      <td>Electronics,Hardware</td>\n",
       "      <td>Just an average Alexa option. Does show a few ...</td>\n",
       "      <td>Average</td>\n",
       "      <td>Neutral</td>\n",
       "      <td>20</td>\n",
       "      <td>12</td>\n",
       "      <td>2017</td>\n",
       "    </tr>\n",
       "    <tr>\n",
       "      <th>3</th>\n",
       "      <td>Fire HD 10 Tablet, 10.1 HD Display, Wi-Fi, 16 ...</td>\n",
       "      <td>eBook Readers,Fire Tablets,Electronics Feature...</td>\n",
       "      <td>Office Supplies,Electronics</td>\n",
       "      <td>very good product. Exactly what I wanted, and ...</td>\n",
       "      <td>Greattttttt</td>\n",
       "      <td>Positive</td>\n",
       "      <td>4</td>\n",
       "      <td>8</td>\n",
       "      <td>2017</td>\n",
       "    </tr>\n",
       "    <tr>\n",
       "      <th>4</th>\n",
       "      <td>Brand New Amazon Kindle Fire 16gb 7\" Ips Displ...</td>\n",
       "      <td>Computers/Tablets &amp; Networking,Tablets &amp; eBook...</td>\n",
       "      <td>Electronics</td>\n",
       "      <td>This is the 3rd one I've purchased. I've bough...</td>\n",
       "      <td>Very durable!</td>\n",
       "      <td>Positive</td>\n",
       "      <td>23</td>\n",
       "      <td>1</td>\n",
       "      <td>2017</td>\n",
       "    </tr>\n",
       "  </tbody>\n",
       "</table>\n",
       "</div>"
      ],
      "text/plain": [
       "                                                name  ... reviews_year\n",
       "0  All-New Fire HD 8 Tablet, 8\" HD Display, Wi-Fi...  ...         2016\n",
       "1        Amazon - Echo Plus w/ Built-In Hub - Silver  ...         2018\n",
       "2  Amazon Echo Show Alexa-enabled Bluetooth Speak...  ...         2017\n",
       "3  Fire HD 10 Tablet, 10.1 HD Display, Wi-Fi, 16 ...  ...         2017\n",
       "4  Brand New Amazon Kindle Fire 16gb 7\" Ips Displ...  ...         2017\n",
       "\n",
       "[5 rows x 9 columns]"
      ]
     },
     "execution_count": 19,
     "metadata": {},
     "output_type": "execute_result"
    }
   ],
   "source": [
    "train['reviews.date'] = train['reviews.date'].str.split('T').str[0]\n",
    "test_val['reviews.date'] = test_val['reviews.date'].str.split('T').str[0]\n",
    "test['reviews.date'] = test['reviews.date'].str.split('T').str[0]\n",
    "\n",
    "train['reviews_day'] = pd.to_datetime(train['reviews.date'], format='%Y-%m-%d').dt.day\n",
    "train['reviews_month'] = pd.to_datetime(train['reviews.date'], format='%Y-%m-%d').dt.month\n",
    "train['reviews_year'] = pd.to_datetime(train['reviews.date'], format='%Y-%m-%d').dt.year\n",
    "\n",
    "test_val['reviews_day'] = pd.to_datetime(test_val['reviews.date'], format='%Y-%m-%d').dt.day\n",
    "test_val['reviews_month'] = pd.to_datetime(test_val['reviews.date'], format='%Y-%m-%d').dt.month\n",
    "test_val['reviews_year'] = pd.to_datetime(test_val['reviews.date'], format='%Y-%m-%d').dt.year\n",
    "\n",
    "test['reviews_day'] = pd.to_datetime(test['reviews.date'], format='%Y-%m-%d').dt.day\n",
    "test['reviews_month'] = pd.to_datetime(test['reviews.date'], format='%Y-%m-%d').dt.month\n",
    "test['reviews_year'] = pd.to_datetime(test['reviews.date'], format='%Y-%m-%d').dt.year\n",
    "\n",
    "del train['reviews.date']\n",
    "del test['reviews.date']\n",
    "del test_val['reviews.date']\n",
    "\n",
    "train.head()"
   ]
  },
  {
   "cell_type": "code",
   "execution_count": 20,
   "metadata": {
    "id": "nYhTjRC4oHD8"
   },
   "outputs": [],
   "source": [
    "name = list(set(list(train['name'])+list(test_val['name'])))\n",
    "categories = list( set( list( train['categories']) + list(test_val['categories'])))\n",
    "primaryCategories = list(train['primaryCategories'].unique())\n",
    "\n",
    "le_name = LabelEncoder()\n",
    "le_cat = LabelEncoder()\n",
    "le_pri = LabelEncoder()\n",
    "le_name.fit(name)\n",
    "le_cat.fit(categories)\n",
    "le_pri.fit(primaryCategories)\n",
    "\n",
    "train['name'] = le_name.transform(train.name)\n",
    "train['categories'] = le_cat.transform(train.categories)\n",
    "train['primaryCategories'] = le_pri.transform(train.primaryCategories)\n",
    "test_val['name'] = le_name.transform(test_val.name)\n",
    "test_val['categories'] = le_cat.transform(test_val.categories)\n",
    "test_val['primaryCategories'] = le_pri.transform(test_val.primaryCategories)\n",
    "test['name'] = le_name.transform(test.name)\n",
    "test['categories'] = le_cat.transform(test.categories)\n",
    "test['primaryCategories'] = le_pri.transform(test.primaryCategories)"
   ]
  },
  {
   "cell_type": "code",
   "execution_count": 21,
   "metadata": {
    "id": "CV16Yv_XoMxN"
   },
   "outputs": [],
   "source": [
    "train['reviews.title'].fillna(value=' ',inplace=True)\n",
    "test_val['reviews.title'].fillna(value=' ',inplace=True)\n",
    "test['reviews.title'].fillna(value=' ',inplace=True)"
   ]
  },
  {
   "cell_type": "code",
   "execution_count": 22,
   "metadata": {
    "colab": {
     "base_uri": "https://localhost:8080/"
    },
    "id": "p-FgjP9aoS2v",
    "outputId": "a74ba410-a133-4eb5-a84f-db1852068f01"
   },
   "outputs": [
    {
     "name": "stdout",
     "output_type": "stream",
     "text": [
      "[nltk_data] Downloading package wordnet to /root/nltk_data...\n",
      "[nltk_data]   Package wordnet is already up-to-date!\n"
     ]
    }
   ],
   "source": [
    "import nltk\n",
    "nltk.download('wordnet')\n",
    "\n",
    "tok = WordPunctTokenizer()\n",
    "ps = PorterStemmer()\n",
    "wnl = WordNetLemmatizer()\n",
    "negations_dic = {\"isn't\":\"is not\", \"aren't\":\"are not\", \"wasn't\":\"was not\", \"weren't\":\"were not\",\n",
    "                \"haven't\":\"have not\",\"hasn't\":\"has not\",\"hadn't\":\"had not\",\"won't\":\"will not\",\n",
    "                \"wouldn't\":\"would not\", \"don't\":\"do not\", \"doesn't\":\"does not\",\"didn't\":\"did not\",\n",
    "                \"can't\":\"can not\",\"couldn't\":\"could not\",\"shouldn't\":\"should not\",\"mightn't\":\"might not\",\n",
    "                \"mustn't\":\"must not\"}\n",
    "neg_pattern = re.compile(r'\\b(' + '|'.join(negations_dic.keys()) + r')\\b')\n",
    "def data_cleaner(text):\n",
    "    text = text.replace(r\"Äú\",'')\n",
    "    text = text.replace(r'Äù','')\n",
    "    text = text.replace(r'‚Äô','\\'')\n",
    "    text = text.lower()\n",
    "    text = text.replace(r'‚Äô','\\'')\n",
    "    text = neg_pattern.sub(lambda x: negations_dic[x.group()], text)\n",
    "    text = re.sub(\"[^a-zA-Z0-9\\\"]\", \" \", text)\n",
    "    word_tok=[x for x in tok.tokenize(text) if len(x) > 3]\n",
    "#     word_stem = [ps.stem(i) for i in word_tok]\n",
    "#     return (\" \".join(word_stem).strip())  \n",
    "    word_lem = [wnl.lemmatize(i) for i in word_tok]\n",
    "    return (\" \".join(word_lem).strip()) \n",
    "for i in (train,test_val,test):\n",
    "    i['reviews.text']=i['reviews.text'].apply(data_cleaner)\n",
    "    i['reviews.title']=i['reviews.title'].apply(data_cleaner)"
   ]
  },
  {
   "cell_type": "code",
   "execution_count": 23,
   "metadata": {
    "colab": {
     "base_uri": "https://localhost:8080/",
     "height": 265
    },
    "id": "M8p0xc0HovZH",
    "outputId": "fadda37e-5971-4b6e-e7cd-aafa6ffa2639"
   },
   "outputs": [
    {
     "data": {
      "image/png": "[encoded data removed]",
      "text/plain": [
       "<Figure size 432x288 with 1 Axes>"
      ]
     },
     "metadata": {
      "needs_background": "light"
     },
     "output_type": "display_data"
    }
   ],
   "source": [
    "# visualising both test and train class\n",
    "train_len=train[\"reviews.text\"].str.len()\n",
    "test_len=test[\"reviews.text\"].str.len()\n",
    "plt.hist(train_len,bins=20,label=\"train reviews\")\n",
    "plt.hist(test_len,bins=20,label=\"test reviews\")\n",
    "plt.legend()\n",
    "plt.xlim(0,2000)\n",
    "plt.show()"
   ]
  },
  {
   "cell_type": "code",
   "execution_count": null,
   "metadata": {
    "id": "pJNLevx5oz2Y"
   },
   "outputs": [],
   "source": [
    "#ecoding the target variable"
   ]
  },
  {
   "cell_type": "code",
   "execution_count": 24,
   "metadata": {
    "colab": {
     "base_uri": "https://localhost:8080/",
     "height": 585
    },
    "id": "IwNyOpeGo2nk",
    "outputId": "178728e0-fed2-4961-f057-e040eac5e978"
   },
   "outputs": [
    {
     "data": {
      "text/html": [
       "<div>\n",
       "<style scoped>\n",
       "    .dataframe tbody tr th:only-of-type {\n",
       "        vertical-align: middle;\n",
       "    }\n",
       "\n",
       "    .dataframe tbody tr th {\n",
       "        vertical-align: top;\n",
       "    }\n",
       "\n",
       "    .dataframe thead th {\n",
       "        text-align: right;\n",
       "    }\n",
       "</style>\n",
       "<table border=\"1\" class=\"dataframe\">\n",
       "  <thead>\n",
       "    <tr style=\"text-align: right;\">\n",
       "      <th></th>\n",
       "      <th>name</th>\n",
       "      <th>categories</th>\n",
       "      <th>primaryCategories</th>\n",
       "      <th>reviews.text</th>\n",
       "      <th>reviews.title</th>\n",
       "      <th>sentiment</th>\n",
       "      <th>reviews_day</th>\n",
       "      <th>reviews_month</th>\n",
       "      <th>reviews_year</th>\n",
       "    </tr>\n",
       "  </thead>\n",
       "  <tbody>\n",
       "    <tr>\n",
       "      <th>0</th>\n",
       "      <td>2</td>\n",
       "      <td>10</td>\n",
       "      <td>0</td>\n",
       "      <td>purchased black fridaypros great price even sa...</td>\n",
       "      <td>powerful tablet</td>\n",
       "      <td>2</td>\n",
       "      <td>26</td>\n",
       "      <td>12</td>\n",
       "      <td>2016</td>\n",
       "    </tr>\n",
       "    <tr>\n",
       "      <th>1</th>\n",
       "      <td>5</td>\n",
       "      <td>1</td>\n",
       "      <td>1</td>\n",
       "      <td>purchased amazon echo plus dot plus four fire ...</td>\n",
       "      <td>amazon echo plus awesome</td>\n",
       "      <td>2</td>\n",
       "      <td>17</td>\n",
       "      <td>1</td>\n",
       "      <td>2018</td>\n",
       "    </tr>\n",
       "    <tr>\n",
       "      <th>2</th>\n",
       "      <td>9</td>\n",
       "      <td>2</td>\n",
       "      <td>1</td>\n",
       "      <td>just average alexa option doe show thing scree...</td>\n",
       "      <td>average</td>\n",
       "      <td>1</td>\n",
       "      <td>20</td>\n",
       "      <td>12</td>\n",
       "      <td>2017</td>\n",
       "    </tr>\n",
       "    <tr>\n",
       "      <th>3</th>\n",
       "      <td>14</td>\n",
       "      <td>22</td>\n",
       "      <td>3</td>\n",
       "      <td>very good product exactly what wanted very goo...</td>\n",
       "      <td>greattttttt</td>\n",
       "      <td>2</td>\n",
       "      <td>4</td>\n",
       "      <td>8</td>\n",
       "      <td>2017</td>\n",
       "    </tr>\n",
       "    <tr>\n",
       "      <th>4</th>\n",
       "      <td>13</td>\n",
       "      <td>9</td>\n",
       "      <td>0</td>\n",
       "      <td>this purchased bought niece other case compare...</td>\n",
       "      <td>very durable</td>\n",
       "      <td>2</td>\n",
       "      <td>23</td>\n",
       "      <td>1</td>\n",
       "      <td>2017</td>\n",
       "    </tr>\n",
       "    <tr>\n",
       "      <th>...</th>\n",
       "      <td>...</td>\n",
       "      <td>...</td>\n",
       "      <td>...</td>\n",
       "      <td>...</td>\n",
       "      <td>...</td>\n",
       "      <td>...</td>\n",
       "      <td>...</td>\n",
       "      <td>...</td>\n",
       "      <td>...</td>\n",
       "    </tr>\n",
       "    <tr>\n",
       "      <th>3937</th>\n",
       "      <td>5</td>\n",
       "      <td>1</td>\n",
       "      <td>1</td>\n",
       "      <td>family play with boring after newness wear</td>\n",
       "      <td></td>\n",
       "      <td>2</td>\n",
       "      <td>8</td>\n",
       "      <td>12</td>\n",
       "      <td>2017</td>\n",
       "    </tr>\n",
       "    <tr>\n",
       "      <th>3938</th>\n",
       "      <td>11</td>\n",
       "      <td>7</td>\n",
       "      <td>0</td>\n",
       "      <td>love kindle great product reduces strain enjoy...</td>\n",
       "      <td>great product</td>\n",
       "      <td>2</td>\n",
       "      <td>31</td>\n",
       "      <td>3</td>\n",
       "      <td>2017</td>\n",
       "    </tr>\n",
       "    <tr>\n",
       "      <th>3939</th>\n",
       "      <td>12</td>\n",
       "      <td>0</td>\n",
       "      <td>0</td>\n",
       "      <td>looking blutooth speaker with phone want worry...</td>\n",
       "      <td>great dumb speaker</td>\n",
       "      <td>2</td>\n",
       "      <td>19</td>\n",
       "      <td>1</td>\n",
       "      <td>2017</td>\n",
       "    </tr>\n",
       "    <tr>\n",
       "      <th>3940</th>\n",
       "      <td>13</td>\n",
       "      <td>9</td>\n",
       "      <td>0</td>\n",
       "      <td>this second amazon fire tablet have purchased ...</td>\n",
       "      <td>great inch tablet great price</td>\n",
       "      <td>2</td>\n",
       "      <td>27</td>\n",
       "      <td>5</td>\n",
       "      <td>2016</td>\n",
       "    </tr>\n",
       "    <tr>\n",
       "      <th>3941</th>\n",
       "      <td>2</td>\n",
       "      <td>10</td>\n",
       "      <td>0</td>\n",
       "      <td>very satisfied with tablet very fast efficient</td>\n",
       "      <td>get done</td>\n",
       "      <td>2</td>\n",
       "      <td>30</td>\n",
       "      <td>12</td>\n",
       "      <td>2016</td>\n",
       "    </tr>\n",
       "  </tbody>\n",
       "</table>\n",
       "<p>3942 rows × 9 columns</p>\n",
       "</div>"
      ],
      "text/plain": [
       "      name  categories  ...  reviews_month reviews_year\n",
       "0        2          10  ...             12         2016\n",
       "1        5           1  ...              1         2018\n",
       "2        9           2  ...             12         2017\n",
       "3       14          22  ...              8         2017\n",
       "4       13           9  ...              1         2017\n",
       "...    ...         ...  ...            ...          ...\n",
       "3937     5           1  ...             12         2017\n",
       "3938    11           7  ...              3         2017\n",
       "3939    12           0  ...              1         2017\n",
       "3940    13           9  ...              5         2016\n",
       "3941     2          10  ...             12         2016\n",
       "\n",
       "[3942 rows x 9 columns]"
      ]
     },
     "execution_count": 24,
     "metadata": {},
     "output_type": "execute_result"
    }
   ],
   "source": [
    "le_senti = LabelEncoder()\n",
    "train['sentiment'] = le_senti.fit_transform(train['sentiment'])\n",
    "test_val['sentiment'] = le_senti.fit_transform(test_val['sentiment'])\n",
    "train"
   ]
  },
  {
   "cell_type": "code",
   "execution_count": null,
   "metadata": {
    "id": "FEg37Yp0o_7Z"
   },
   "outputs": [],
   "source": [
    "#performing tfidf vectorization on the review text and title text"
   ]
  },
  {
   "cell_type": "code",
   "execution_count": 25,
   "metadata": {
    "id": "SJtcWJUjpG0z"
   },
   "outputs": [],
   "source": [
    "tvec1 = TfidfVectorizer()\n",
    "tvec2 = TfidfVectorizer()\n",
    "tvec3 = TfidfVectorizer()\n"
   ]
  },
  {
   "cell_type": "code",
   "execution_count": 26,
   "metadata": {
    "id": "qSMCqU-kpKd_"
   },
   "outputs": [],
   "source": [
    "train1 = train.reset_index()\n",
    "combi1 = train1.append(test_val,ignore_index=True,sort=False)\n",
    "tvec1.fit(combi1['reviews.text'])\n",
    "tvec_text1 = pd.DataFrame(tvec1.transform(train1['reviews.text']).toarray())\n",
    "tvec_text2 = pd.DataFrame(tvec1.transform(test_val['reviews.text']).toarray())\n",
    "tvec2.fit(combi1['reviews.title'])\n",
    "tvec_title1 = pd.DataFrame(tvec2.transform(train1['reviews.title']).toarray())\n",
    "tvec_title2 = pd.DataFrame(tvec2.transform(test_val['reviews.title']).toarray())\n",
    "Train1 = pd.concat([train1.drop(['reviews.text','reviews.title','sentiment','index'],axis=1),tvec_text1, tvec_title1],axis=1)\n",
    "Test_Val1 = pd.concat([test_val.drop(['reviews.text','reviews.title','sentiment'],axis=1),tvec_text2, tvec_title2],axis=1)\n",
    "x_train1=Train1.values\n",
    "y_train1=train['sentiment'].values\n",
    "x_val1=Test_Val1.values\n",
    "y_val1 = test_val['sentiment'].values"
   ]
  },
  {
   "cell_type": "code",
   "execution_count": 27,
   "metadata": {
    "colab": {
     "base_uri": "https://localhost:8080/"
    },
    "id": "l-YBvh9PpTZL",
    "outputId": "f04f66e7-430f-4fb0-87d2-3870016ae5b9"
   },
   "outputs": [
    {
     "name": "stderr",
     "output_type": "stream",
     "text": [
      "/usr/local/lib/python3.7/dist-packages/sklearn/feature_extraction/text.py:385: UserWarning: Your stop_words may be inconsistent with your preprocessing. Tokenizing the stop words generated tokens ['abov', 'afterward', 'alon', 'alreadi', 'alway', 'ani', 'anoth', 'anyon', 'anyth', 'anywher', 'becam', 'becaus', 'becom', 'befor', 'besid', 'cri', 'describ', 'dure', 'els', 'elsewher', 'empti', 'everi', 'everyon', 'everyth', 'everywher', 'fifti', 'forti', 'henc', 'hereaft', 'herebi', 'howev', 'hundr', 'inde', 'mani', 'meanwhil', 'moreov', 'nobodi', 'noon', 'noth', 'nowher', 'onc', 'onli', 'otherwis', 'ourselv', 'perhap', 'pleas', 'sever', 'sinc', 'sincer', 'sixti', 'someon', 'someth', 'sometim', 'somewher', 'themselv', 'thenc', 'thereaft', 'therebi', 'therefor', 'togeth', 'twelv', 'twenti', 'veri', 'whatev', 'whenc', 'whenev', 'wherea', 'whereaft', 'wherebi', 'wherev', 'whi', 'yourselv'] not in stop_words.\n",
      "  'stop_words.' % sorted(inconsistent))\n"
     ]
    }
   ],
   "source": [
    "#applying stopwords removal stemming and tockenization\n",
    "from nltk.tokenize import RegexpTokenizer\n",
    "from nltk.stem.snowball import SnowballStemmer\n",
    "from sklearn.feature_extraction import text\n",
    "\n",
    "punc = ['.', ',', '\"', \"'\", '?', '!', ':', ';', '(', ')', '[', ']', '{', '}',\"%\"]\n",
    "stop_words = text.ENGLISH_STOP_WORDS.union(punc)\n",
    "\n",
    "stemmer = SnowballStemmer('english')\n",
    "tokenizer = RegexpTokenizer(r'[a-zA-Z\\']+')\n",
    "\n",
    "def tokenize(text):\n",
    "    return [stemmer.stem(word) for word in tokenizer.tokenize(text.lower())]\n",
    "tvec3 = TfidfVectorizer(stop_words = stop_words, tokenizer = tokenize, max_features = 1000)\n",
    "reviews=tvec3.fit_transform(combi1['reviews.text'])\n",
    "words = tvec3.get_feature_names()"
   ]
  },
  {
   "cell_type": "code",
   "execution_count": null,
   "metadata": {
    "colab": {
     "base_uri": "https://localhost:8080/"
    },
    "id": "01xXvHF1pbn8",
    "outputId": "ecd80257-b4e2-4b63-e165-060ff60042e0"
   },
   "outputs": [
    {
     "name": "stdout",
     "output_type": "stream",
     "text": [
      "[[  0   0  24]\n",
      " [  0   0  39]\n",
      " [  0   0 937]]\n",
      "              precision    recall  f1-score   support\n",
      "\n",
      "           0       0.00      0.00      0.00        24\n",
      "           1       0.00      0.00      0.00        39\n",
      "           2       0.94      1.00      0.97       937\n",
      "\n",
      "    accuracy                           0.94      1000\n",
      "   macro avg       0.31      0.33      0.32      1000\n",
      "weighted avg       0.88      0.94      0.91      1000\n",
      "\n",
      "93.7\n"
     ]
    },
    {
     "name": "stderr",
     "output_type": "stream",
     "text": [
      "/usr/local/lib/python3.7/dist-packages/sklearn/metrics/_classification.py:1272: UndefinedMetricWarning: Precision and F-score are ill-defined and being set to 0.0 in labels with no predicted samples. Use `zero_division` parameter to control this behavior.\n",
      "  _warn_prf(average, modifier, msg_start, len(result))\n"
     ]
    }
   ],
   "source": [
    "#applying multinomail naive bayes\n",
    "nb = MultinomialNB()\n",
    "nb.fit(Train1.values,train1['sentiment'])\n",
    "y_pred = nb.predict(Test_Val1.values)\n",
    "y_val = test_val['sentiment']\n",
    "print(confusion_matrix(y_true=y_val, y_pred=y_pred))\n",
    "print(classification_report(y_true=y_val, y_pred=y_pred))\n",
    "print(accuracy_score(y_val, y_pred)*100)"
   ]
  },
  {
   "cell_type": "code",
   "execution_count": null,
   "metadata": {
    "id": "QWCmEJGepuFV"
   },
   "outputs": [],
   "source": [
    "# all predicted positive as the data set is imbalanced with the most of the positive comments"
   ]
  },
  {
   "cell_type": "code",
   "execution_count": null,
   "metadata": {
    "id": "xmX1g_9mpxdN"
   },
   "outputs": [],
   "source": [
    "# balance the data"
   ]
  },
  {
   "cell_type": "code",
   "execution_count": null,
   "metadata": {
    "colab": {
     "base_uri": "https://localhost:8080/"
    },
    "id": "kFlOV2EHp2Kx",
    "outputId": "36cad8f2-dc02-44e1-ce83-221569b3e313"
   },
   "outputs": [
    {
     "data": {
      "text/plain": [
       "2    3694\n",
       "1     158\n",
       "0      90\n",
       "Name: sentiment, dtype: int64"
      ]
     },
     "execution_count": 28,
     "metadata": {},
     "output_type": "execute_result"
    }
   ],
   "source": [
    "train.sentiment.value_counts()"
   ]
  },
  {
   "cell_type": "code",
   "execution_count": null,
   "metadata": {
    "id": "3Iqb8_M5qCBM"
   },
   "outputs": [],
   "source": [
    "count_2, count_1, count_0 =train.sentiment.value_counts()\n",
    "class_2 = train[train.sentiment==2]\n",
    "class_1 = train[train.sentiment==1]\n",
    "class_0 = train[train.sentiment==0]"
   ]
  },
  {
   "cell_type": "code",
   "execution_count": null,
   "metadata": {
    "colab": {
     "base_uri": "https://localhost:8080/"
    },
    "id": "mOjUmYnGqGrc",
    "outputId": "dcc21ca5-1d49-415d-a625-72276798a682"
   },
   "outputs": [
    {
     "name": "stdout",
     "output_type": "stream",
     "text": [
      "(406, 9)\n",
      "2    158\n",
      "1    158\n",
      "0     90\n",
      "Name: sentiment, dtype: int64\n"
     ]
    }
   ],
   "source": [
    "#under samplimg\n",
    "class_2_under = class_2.sample(count_1)\n",
    "train_under= pd.concat([class_2_under,class_1,class_0],axis=0)\n",
    "print(train_under.shape)\n",
    "print(train_under.sentiment.value_counts())"
   ]
  },
  {
   "cell_type": "code",
   "execution_count": null,
   "metadata": {
    "colab": {
     "base_uri": "https://localhost:8080/"
    },
    "id": "AtqgM7yHqQc1",
    "outputId": "c5fc31b3-69c4-4d09-fc4e-d3215f881dd5"
   },
   "outputs": [
    {
     "name": "stdout",
     "output_type": "stream",
     "text": [
      "(11082, 9)\n",
      "2    3694\n",
      "1    3694\n",
      "0    3694\n",
      "Name: sentiment, dtype: int64\n"
     ]
    }
   ],
   "source": [
    "#over sampling\n",
    "class_0_over = class_0.sample(count_2,replace=True)\n",
    "class_1_over = class_1.sample(count_2,replace=True)\n",
    "train_over = pd.concat([class_2,class_0_over,class_1_over],axis=0)\n",
    "print(train_over.shape)\n",
    "print(train_over.sentiment.value_counts())"
   ]
  },
  {
   "cell_type": "code",
   "execution_count": null,
   "metadata": {
    "id": "Sd-1rwvQqZqN"
   },
   "outputs": [],
   "source": [
    "#tfidf and logistic for under sampling"
   ]
  },
  {
   "cell_type": "code",
   "execution_count": null,
   "metadata": {
    "id": "Wvk-WszMqajs"
   },
   "outputs": [],
   "source": [
    "lr= LogisticRegression(C=30, class_weight='balanced', solver='sag', \n",
    "                         multi_class='multinomial', n_jobs=6, random_state=40, \n",
    "                         verbose=1, max_iter=1000)"
   ]
  },
  {
   "cell_type": "code",
   "execution_count": null,
   "metadata": {
    "colab": {
     "base_uri": "https://localhost:8080/"
    },
    "id": "yZUM9PZEqic6",
    "outputId": "f3545220-c481-4c0e-f1f2-634242a5735f"
   },
   "outputs": [
    {
     "name": "stdout",
     "output_type": "stream",
     "text": [
      "(1406, 9)\n"
     ]
    }
   ],
   "source": [
    "train = train_under.reset_index(drop=True) \n",
    "combi = train.append(test_val , ignore_index=True)\n",
    "print(combi.shape)\n",
    "\n",
    "tvec1.fit(combi['reviews.text'])\n",
    "tvec_text1 = pd.DataFrame(tvec1.transform(train['reviews.text']).toarray())\n",
    "tvec_text2 = pd.DataFrame(tvec1.transform(test_val['reviews.text']).toarray())\n",
    "\n",
    "tvec2.fit(combi['reviews.title'])\n",
    "tvec_title1 = pd.DataFrame(tvec2.transform(train['reviews.title']).toarray())\n",
    "tvec_title2 = pd.DataFrame(tvec2.transform(test_val['reviews.title']).toarray())\n",
    "\n",
    "Train = pd.concat([train.drop(['reviews.text','reviews.title','sentiment'],axis=1),tvec_text1, tvec_title1],axis=1)\n",
    "Test_Val = pd.concat([test_val.drop(['reviews.text','reviews.title','sentiment'],axis=1),tvec_text2, tvec_title2],axis=1)\n",
    "x_train=Train.values\n",
    "y_train=train['sentiment']\n",
    "x_val=Test_Val.values\n",
    "y_val = test_val['sentiment']"
   ]
  },
  {
   "cell_type": "code",
   "execution_count": null,
   "metadata": {
    "id": "-5cEzh-Dqqkx"
   },
   "outputs": [],
   "source": [
    "#logistic"
   ]
  },
  {
   "cell_type": "code",
   "execution_count": null,
   "metadata": {
    "colab": {
     "base_uri": "https://localhost:8080/"
    },
    "id": "czEIBpYsqq60",
    "outputId": "6e6e08d6-306b-42d3-c878-f3802af735db"
   },
   "outputs": [
    {
     "name": "stderr",
     "output_type": "stream",
     "text": [
      "[Parallel(n_jobs=6)]: Using backend ThreadingBackend with 6 concurrent workers.\n"
     ]
    },
    {
     "name": "stdout",
     "output_type": "stream",
     "text": [
      "max_iter reached after 22 seconds\n",
      "[[ 10   5   9]\n",
      " [ 12   7  20]\n",
      " [265 195 477]]\n",
      "              precision    recall  f1-score   support\n",
      "\n",
      "           0       0.03      0.42      0.06        24\n",
      "           1       0.03      0.18      0.06        39\n",
      "           2       0.94      0.51      0.66       937\n",
      "\n",
      "    accuracy                           0.49      1000\n",
      "   macro avg       0.34      0.37      0.26      1000\n",
      "weighted avg       0.89      0.49      0.62      1000\n",
      "\n",
      "accuracy :  49.4\n"
     ]
    },
    {
     "name": "stderr",
     "output_type": "stream",
     "text": [
      "/usr/local/lib/python3.7/dist-packages/sklearn/linear_model/_sag.py:330: ConvergenceWarning: The max_iter was reached which means the coef_ did not converge\n",
      "  \"the coef_ did not converge\", ConvergenceWarning)\n",
      "[Parallel(n_jobs=6)]: Done   1 out of   1 | elapsed:   22.7s finished\n"
     ]
    }
   ],
   "source": [
    "lr.fit(x_train,y_train)\n",
    "y_pred = lr.predict(x_val)\n",
    "print(confusion_matrix(y_true=y_val, y_pred=y_pred))\n",
    "print(classification_report(y_true=y_val, y_pred=y_pred))\n",
    "print('accuracy : ',accuracy_score(y_val, y_pred)*100)"
   ]
  },
  {
   "cell_type": "code",
   "execution_count": null,
   "metadata": {
    "colab": {
     "base_uri": "https://localhost:8080/",
     "height": 312
    },
    "id": "wjsmAggGqyF7",
    "outputId": "c941a84f-f497-4c1d-9a25-23ae57119d28"
   },
   "outputs": [
    {
     "name": "stdout",
     "output_type": "stream",
     "text": [
      "0.5238772595036776\n"
     ]
    },
    {
     "data": {
      "image/png": "[encoded data removed]",
      "text/plain": [
       "<Figure size 432x288 with 1 Axes>"
      ]
     },
     "metadata": {
      "needs_background": "light"
     },
     "output_type": "display_data"
    }
   ],
   "source": [
    "lb = LabelBinarizer()\n",
    "lb.fit(y_val)\n",
    "y_val1 = lb.transform(y_val)\n",
    "y_pred1 = lb.transform(y_pred)\n",
    "print(roc_auc_score(y_val1, y_pred1, average='weighted'))\n",
    "fpr = dict()\n",
    "tpr = dict()\n",
    "roc_auc = dict()\n",
    "for i in range(3):\n",
    "    fpr[i], tpr[i], _ = roc_curve(y_val1[:, i], y_pred1[:, i])\n",
    "    roc_auc[i] = auc(fpr[i], tpr[i])\n",
    "    \n",
    "lw=2\n",
    "for i in range(3):\n",
    "    plt.plot(fpr[i], tpr[i], lw=lw,\n",
    "             label='ROC curve of class {0} (area = {1:0.2f})'\n",
    "             ''.format(i, roc_auc[i]))\n",
    "\n",
    "plt.plot([0, 1], [0, 1], 'k--', lw=lw)\n",
    "plt.xlim([0.0, 1.0])\n",
    "plt.ylim([0.0, 1.05])\n",
    "plt.xlabel('False Positive Rate')\n",
    "plt.ylabel('True Positive Rate')\n",
    "plt.title('Receiver operating characteristic of Logistic Regression of under -sampled data')\n",
    "plt.legend(loc=\"lower right\")\n",
    "plt.show()"
   ]
  },
  {
   "cell_type": "code",
   "execution_count": null,
   "metadata": {
    "id": "PwEJ-LcIq7ka"
   },
   "outputs": [],
   "source": [
    "#tfidf and logistic for over sampling"
   ]
  },
  {
   "cell_type": "code",
   "execution_count": null,
   "metadata": {
    "id": "wYQPIA9irMYu"
   },
   "outputs": [],
   "source": [
    "train = train_over.reset_index(drop=True) \n",
    "\n",
    "tvec1.fit(train['reviews.text'])\n",
    "tvec_text1 = pd.DataFrame(tvec1.transform(train['reviews.text']).toarray())\n",
    "tvec_text2 = pd.DataFrame(tvec1.transform(test_val['reviews.text']).toarray())\n",
    "\n",
    "tvec2.fit(train['reviews.title'])\n",
    "tvec_title1 = pd.DataFrame(tvec2.transform(train['reviews.title']).toarray())\n",
    "tvec_title2 = pd.DataFrame(tvec2.transform(test_val['reviews.title']).toarray())\n",
    "\n",
    "Train = pd.concat([train.drop(['reviews.text','reviews.title','sentiment'],axis=1),tvec_text1, tvec_title1],axis=1)\n",
    "Test_Val = pd.concat([test_val.drop(['reviews.text','reviews.title','sentiment'],axis=1),tvec_text2, tvec_title2],axis=1)\n",
    "\n",
    "Train.to_csv('Train.csv',encoding='utf-8')\n",
    "Test_Val.to_csv('Test_Val.csv',encoding='utf-8')\n",
    "\n",
    "x_train=Train.values\n",
    "y_train=train['sentiment'].values\n",
    "x_val=Test_Val.values\n",
    "y_val = test_val['sentiment'].values"
   ]
  },
  {
   "cell_type": "code",
   "execution_count": null,
   "metadata": {
    "colab": {
     "base_uri": "https://localhost:8080/"
    },
    "id": "D_I6QJnXrQ5H",
    "outputId": "ce5d229e-501f-40b8-f995-91b06b8eb4ff"
   },
   "outputs": [
    {
     "name": "stderr",
     "output_type": "stream",
     "text": [
      "[Parallel(n_jobs=6)]: Using backend ThreadingBackend with 6 concurrent workers.\n"
     ]
    },
    {
     "name": "stdout",
     "output_type": "stream",
     "text": [
      "max_iter reached after 911 seconds\n",
      "[[ 14   2   8]\n",
      " [ 11   8  20]\n",
      " [203 155 579]]\n",
      "              precision    recall  f1-score   support\n",
      "\n",
      "           0       0.06      0.58      0.11        24\n",
      "           1       0.05      0.21      0.08        39\n",
      "           2       0.95      0.62      0.75       937\n",
      "\n",
      "    accuracy                           0.60      1000\n",
      "   macro avg       0.35      0.47      0.31      1000\n",
      "weighted avg       0.90      0.60      0.71      1000\n",
      "\n",
      "accuracy :  60.099999999999994\n"
     ]
    },
    {
     "name": "stderr",
     "output_type": "stream",
     "text": [
      "/usr/local/lib/python3.7/dist-packages/sklearn/linear_model/_sag.py:330: ConvergenceWarning: The max_iter was reached which means the coef_ did not converge\n",
      "  \"the coef_ did not converge\", ConvergenceWarning)\n",
      "[Parallel(n_jobs=6)]: Done   1 out of   1 | elapsed: 15.2min finished\n"
     ]
    }
   ],
   "source": [
    "lr.fit(x_train,y_train)\n",
    "y_pred = lr.predict(x_val)\n",
    "print(confusion_matrix(y_true=y_val, y_pred=y_pred))\n",
    "print(classification_report(y_true=y_val, y_pred=y_pred))\n",
    "print('accuracy : ',accuracy_score(y_val, y_pred)*100)"
   ]
  },
  {
   "cell_type": "code",
   "execution_count": null,
   "metadata": {
    "id": "iYoXZRmtuieo"
   },
   "outputs": [],
   "source": [
    "#Logistic Regression on over-sampled data is perfrorming better than under-sampled data"
   ]
  },
  {
   "cell_type": "code",
   "execution_count": null,
   "metadata": {
    "colab": {
     "base_uri": "https://localhost:8080/",
     "height": 312
    },
    "id": "FmJqVB-YupnN",
    "outputId": "4a3896ad-cb23-45ab-c3ef-7bf704f551a4"
   },
   "outputs": [
    {
     "name": "stdout",
     "output_type": "stream",
     "text": [
      "0.5864608862201448\n"
     ]
    },
    {
     "data": {
      "image/png": "[encoded data removed]",
      "text/plain": [
       "<Figure size 432x288 with 1 Axes>"
      ]
     },
     "metadata": {
      "needs_background": "light"
     },
     "output_type": "display_data"
    }
   ],
   "source": [
    "lb = LabelBinarizer()\n",
    "lb.fit(y_val)\n",
    "y_val1 = lb.transform(y_val)\n",
    "y_pred1 = lb.transform(y_pred)\n",
    "print(roc_auc_score(y_val1, y_pred1, average='weighted'))\n",
    "fpr = dict()\n",
    "tpr = dict()\n",
    "roc_auc = dict()\n",
    "for i in range(3):\n",
    "    fpr[i], tpr[i], _ = roc_curve(y_val1[:, i], y_pred1[:, i])\n",
    "    roc_auc[i] = auc(fpr[i], tpr[i])\n",
    "    \n",
    "lw=2\n",
    "for i in range(3):\n",
    "    plt.plot(fpr[i], tpr[i], lw=lw,\n",
    "             label='ROC curve of class {0} (area = {1:0.2f})'\n",
    "             ''.format(i, roc_auc[i]))\n",
    "\n",
    "plt.plot([0, 1], [0, 1], 'k--', lw=lw)\n",
    "plt.xlim([0.0, 1.0])\n",
    "plt.ylim([0.0, 1.05])\n",
    "plt.xlabel('False Positive Rate')\n",
    "plt.ylabel('True Positive Rate')\n",
    "plt.title(' Receiver operating characteristic for Logistic Regression of over-sampled data')\n",
    "plt.legend(loc=\"lower right\")\n",
    "plt.show()\n"
   ]
  },
  {
   "cell_type": "code",
   "execution_count": null,
   "metadata": {
    "colab": {
     "base_uri": "https://localhost:8080/"
    },
    "id": "GDyfh-tNuuzd",
    "outputId": "72e739b3-336a-4c39-c332-5fd5b5cd3660"
   },
   "outputs": [
    {
     "name": "stdout",
     "output_type": "stream",
     "text": [
      "[[ 12   4   8]\n",
      " [  4  14  21]\n",
      " [ 10  90 837]]\n",
      "              precision    recall  f1-score   support\n",
      "\n",
      "           0       0.46      0.50      0.48        24\n",
      "           1       0.13      0.36      0.19        39\n",
      "           2       0.97      0.89      0.93       937\n",
      "\n",
      "    accuracy                           0.86      1000\n",
      "   macro avg       0.52      0.58      0.53      1000\n",
      "weighted avg       0.92      0.86      0.89      1000\n",
      "\n",
      "86.3\n",
      "0.956506045840101\n",
      "0.863\n"
     ]
    }
   ],
   "source": [
    "#multinomail naive bayes\n",
    "nb = MultinomialNB()\n",
    "nb.fit(x_train,y_train)\n",
    "y_pred = nb.predict(x_val)\n",
    "print(confusion_matrix(y_true=y_val, y_pred=y_pred))\n",
    "print(classification_report(y_true=y_val, y_pred=y_pred))\n",
    "print(accuracy_score(y_val, y_pred)*100)\n",
    "print(nb.score(x_train,y_train))\n",
    "print(nb.score(x_val,y_val))"
   ]
  },
  {
   "cell_type": "code",
   "execution_count": null,
   "metadata": {
    "colab": {
     "base_uri": "https://localhost:8080/",
     "height": 312
    },
    "id": "G6uTTW3Ou9H_",
    "outputId": "78022809-03f5-4b2e-e8ee-8102cda96721"
   },
   "outputs": [
    {
     "name": "stdout",
     "output_type": "stream",
     "text": [
      "0.713761750556372\n"
     ]
    },
    {
     "data": {
      "image/png": "[encoded data removed]",
      "text/plain": [
       "<Figure size 432x288 with 1 Axes>"
      ]
     },
     "metadata": {
      "needs_background": "light"
     },
     "output_type": "display_data"
    }
   ],
   "source": [
    "lb = LabelBinarizer()\n",
    "lb.fit(y_val)\n",
    "y_val1 = lb.transform(y_val)\n",
    "y_pred1 = lb.transform(y_pred)\n",
    "print(roc_auc_score(y_val1, y_pred1, average='weighted'))\n",
    "fpr = dict()\n",
    "tpr = dict()\n",
    "roc_auc = dict()\n",
    "for i in range(3):\n",
    "    fpr[i], tpr[i], _ = roc_curve(y_val1[:, i], y_pred1[:, i])\n",
    "    roc_auc[i] = auc(fpr[i], tpr[i])\n",
    "    \n",
    "lw=2\n",
    "for i in range(3):\n",
    "    plt.plot(fpr[i], tpr[i], lw=lw,\n",
    "             label='ROC curve of class {0} (area = {1:0.2f})'\n",
    "             ''.format(i, roc_auc[i]))\n",
    "\n",
    "plt.plot([0, 1], [0, 1], 'k--', lw=lw)\n",
    "plt.xlim([0.0, 1.0])\n",
    "plt.ylim([0.0, 1.05])\n",
    "plt.xlabel('False Positive Rate')\n",
    "plt.ylabel('True Positive Rate')\n",
    "plt.title('Receiver operating characteristic of Multinomial Naive Bayes Classifier')\n",
    "plt.legend(loc=\"lower right\")\n",
    "plt.show()"
   ]
  },
  {
   "cell_type": "code",
   "execution_count": null,
   "metadata": {
    "colab": {
     "base_uri": "https://localhost:8080/"
    },
    "id": "uJuV6RQQvA-H",
    "outputId": "e04e8ad6-8429-4a54-b0ef-3027f8d3f0d0"
   },
   "outputs": [
    {
     "name": "stdout",
     "output_type": "stream",
     "text": [
      "[[  7   0  17]\n",
      " [  0  10  29]\n",
      " [  0   0 937]]\n",
      "              precision    recall  f1-score   support\n",
      "\n",
      "           0       1.00      0.29      0.45        24\n",
      "           1       1.00      0.26      0.41        39\n",
      "           2       0.95      1.00      0.98       937\n",
      "\n",
      "    accuracy                           0.95      1000\n",
      "   macro avg       0.98      0.52      0.61      1000\n",
      "weighted avg       0.96      0.95      0.94      1000\n",
      "\n",
      "accuracy :  95.39999999999999\n",
      "1.0\n",
      "0.954\n"
     ]
    }
   ],
   "source": [
    "#Random forest\n",
    "\n",
    "rf= RandomForestClassifier(n_estimators=400,random_state=10).fit(x_train,y_train)\n",
    "y_pred=rf.predict(x_val)\n",
    "print(confusion_matrix(y_true=y_val, y_pred=y_pred))\n",
    "print(classification_report(y_true=y_val, y_pred=y_pred))\n",
    "print('accuracy : ',accuracy_score(y_val, y_pred)*100)\n",
    "print(rf.score(x_train,y_train))\n",
    "print(rf.score(x_val,y_val))"
   ]
  },
  {
   "cell_type": "code",
   "execution_count": null,
   "metadata": {
    "colab": {
     "base_uri": "https://localhost:8080/",
     "height": 312
    },
    "id": "bZBtnq1DvIZ0",
    "outputId": "65302b56-66d5-469f-cdc2-e0e744c498b2"
   },
   "outputs": [
    {
     "name": "stdout",
     "output_type": "stream",
     "text": [
      "0.6349206349206349\n"
     ]
    },
    {
     "data": {
      "image/png": "[encoded data removed]",
      "text/plain": [
       "<Figure size 432x288 with 1 Axes>"
      ]
     },
     "metadata": {
      "needs_background": "light"
     },
     "output_type": "display_data"
    }
   ],
   "source": [
    "lb = LabelBinarizer()\n",
    "lb.fit(y_val)\n",
    "y_val1 = lb.transform(y_val)\n",
    "y_pred1 = lb.transform(y_pred)\n",
    "print(roc_auc_score(y_val1, y_pred1, average='weighted'))\n",
    "fpr = dict()\n",
    "tpr = dict()\n",
    "roc_auc = dict()\n",
    "for i in range(3):\n",
    "    fpr[i], tpr[i], _ = roc_curve(y_val1[:, i], y_pred1[:, i])\n",
    "    roc_auc[i] = auc(fpr[i], tpr[i])\n",
    "    \n",
    "lw=2\n",
    "for i in range(3):\n",
    "    plt.plot(fpr[i], tpr[i], lw=lw,\n",
    "             label='ROC curve of class {0} (area = {1:0.2f})'\n",
    "             ''.format(i, roc_auc[i]))\n",
    "\n",
    "plt.plot([0, 1], [0, 1], 'k--', lw=lw)\n",
    "plt.xlim([0.0, 1.0])\n",
    "plt.ylim([0.0, 1.05])\n",
    "plt.xlabel('False Positive Rate')\n",
    "plt.ylabel('True Positive Rate')\n",
    "plt.title('Receiver operating characteristic of Random Forest Classifier')\n",
    "plt.legend(loc=\"lower right\")\n",
    "plt.show()"
   ]
  },
  {
   "cell_type": "code",
   "execution_count": null,
   "metadata": {
    "colab": {
     "base_uri": "https://localhost:8080/"
    },
    "id": "BgvAFZEXvKJA",
    "outputId": "03cbe2a2-7403-486b-edbf-8a3bcbaa508b"
   },
   "outputs": [
    {
     "name": "stdout",
     "output_type": "stream",
     "text": [
      "[[ 11   1  12]\n",
      " [  2  12  25]\n",
      " [  3   6 928]]\n",
      "              precision    recall  f1-score   support\n",
      "\n",
      "           0       0.69      0.46      0.55        24\n",
      "           1       0.63      0.31      0.41        39\n",
      "           2       0.96      0.99      0.98       937\n",
      "\n",
      "    accuracy                           0.95      1000\n",
      "   macro avg       0.76      0.59      0.65      1000\n",
      "weighted avg       0.94      0.95      0.94      1000\n",
      "\n",
      "accuracy :  95.1\n"
     ]
    }
   ],
   "source": [
    "#XGboost\n",
    "\n",
    "xgb= XGBClassifier(n_estimators=1000,max_depth=6).fit(x_train,y_train)\n",
    "y_pred=xgb.predict(x_val)\n",
    "print(confusion_matrix(y_true=y_val, y_pred=y_pred))\n",
    "print(classification_report(y_true=y_val, y_pred=y_pred))\n",
    "print(\"accuracy : \",accuracy_score(y_val, y_pred)*100)"
   ]
  },
  {
   "cell_type": "code",
   "execution_count": null,
   "metadata": {
    "colab": {
     "base_uri": "https://localhost:8080/",
     "height": 312
    },
    "id": "_N8K8DFGvOq4",
    "outputId": "747f711a-2798-43a8-d7cb-95fee9c1e176"
   },
   "outputs": [
    {
     "name": "stdout",
     "output_type": "stream",
     "text": [
      "0.7001456913972267\n"
     ]
    },
    {
     "data": {
      "image/png": "[encoded data removed]",
      "text/plain": [
       "<Figure size 432x288 with 1 Axes>"
      ]
     },
     "metadata": {
      "needs_background": "light"
     },
     "output_type": "display_data"
    }
   ],
   "source": [
    "lb = LabelBinarizer()\n",
    "lb.fit(y_val)\n",
    "y_val1 = lb.transform(y_val)\n",
    "y_pred1 = lb.transform(y_pred)\n",
    "print(roc_auc_score(y_val1, y_pred1, average='weighted'))\n",
    "fpr = dict()\n",
    "tpr = dict()\n",
    "roc_auc = dict()\n",
    "for i in range(3):\n",
    "    fpr[i], tpr[i], _ = roc_curve(y_val1[:, i], y_pred1[:, i])\n",
    "    roc_auc[i] = auc(fpr[i], tpr[i])\n",
    "    \n",
    "lw=2\n",
    "for i in range(3):\n",
    "    plt.plot(fpr[i], tpr[i], lw=lw,\n",
    "             label='ROC curve of class {0} (area = {1:0.2f})'\n",
    "             ''.format(i, roc_auc[i]))\n",
    "\n",
    "plt.plot([0, 1], [0, 1], 'k--', lw=lw)\n",
    "plt.xlim([0.0, 1.0])\n",
    "plt.ylim([0.0, 1.05])\n",
    "plt.xlabel('False Positive Rate')\n",
    "plt.ylabel('True Positive Rate')\n",
    "plt.title('Receiver operating characteristic of XGBClassifier')\n",
    "plt.legend(loc=\"lower right\")\n",
    "plt.show()"
   ]
  },
  {
   "cell_type": "code",
   "execution_count": null,
   "metadata": {
    "id": "82OnNiVYvT85"
   },
   "outputs": [],
   "source": [
    "#XGBoost is performing better in predicting all the classes"
   ]
  },
  {
   "cell_type": "code",
   "execution_count": null,
   "metadata": {
    "colab": {
     "base_uri": "https://localhost:8080/"
    },
    "id": "ZPNPPDhOvaFm",
    "outputId": "704b1501-a3d0-4b07-9181-53c1d82ffce8"
   },
   "outputs": [
    {
     "name": "stdout",
     "output_type": "stream",
     "text": [
      "[[ 14   2   8]\n",
      " [  5  15  19]\n",
      " [ 18  46 873]]\n",
      "              precision    recall  f1-score   support\n",
      "\n",
      "           0       0.38      0.58      0.46        24\n",
      "           1       0.24      0.38      0.29        39\n",
      "           2       0.97      0.93      0.95       937\n",
      "\n",
      "    accuracy                           0.90      1000\n",
      "   macro avg       0.53      0.63      0.57      1000\n",
      "weighted avg       0.93      0.90      0.91      1000\n",
      "\n",
      "accuracy :  90.2\n"
     ]
    }
   ],
   "source": [
    "#multiclass SVM\n",
    "svc = SVC(kernel='linear', class_weight='balanced', C=1.0, random_state=0).fit(x_train, y_train) \n",
    "y_pred=svc.predict(x_val)\n",
    "print(confusion_matrix(y_true=y_val, y_pred=y_pred))\n",
    "print(classification_report(y_true=y_val, y_pred=y_pred))\n",
    "print(\"accuracy : \",accuracy_score(y_val, y_pred)*100)"
   ]
  },
  {
   "cell_type": "code",
   "execution_count": null,
   "metadata": {
    "colab": {
     "base_uri": "https://localhost:8080/",
     "height": 312
    },
    "id": "WkQdJPdnvtoS",
    "outputId": "42bd6137-5d9d-4bd1-a7fa-df851aa8faf2"
   },
   "outputs": [
    {
     "name": "stdout",
     "output_type": "stream",
     "text": [
      "0.7489575133971978\n"
     ]
    },
    {
     "data": {
      "image/png": "[encoded data removed]",
      "text/plain": [
       "<Figure size 432x288 with 1 Axes>"
      ]
     },
     "metadata": {
      "needs_background": "light"
     },
     "output_type": "display_data"
    }
   ],
   "source": [
    "lb = LabelBinarizer()\n",
    "lb.fit(y_val)\n",
    "y_val1 = lb.transform(y_val)\n",
    "y_pred1 = lb.transform(y_pred)\n",
    "print(roc_auc_score(y_val1, y_pred1, average='weighted'))\n",
    "fpr = dict()\n",
    "tpr = dict()\n",
    "roc_auc = dict()\n",
    "for i in range(3):\n",
    "    fpr[i], tpr[i], _ = roc_curve(y_val1[:, i], y_pred1[:, i])\n",
    "    roc_auc[i] = auc(fpr[i], tpr[i])\n",
    "    \n",
    "lw=2\n",
    "for i in range(3):\n",
    "    plt.plot(fpr[i], tpr[i], lw=lw,\n",
    "             label='ROC curve of class {0} (area = {1:0.2f})'\n",
    "             ''.format(i, roc_auc[i]))\n",
    "\n",
    "plt.plot([0, 1], [0, 1], 'k--', lw=lw)\n",
    "plt.xlim([0.0, 1.0])\n",
    "plt.ylim([0.0, 1.05])\n",
    "plt.xlabel('False Positive Rate')\n",
    "plt.ylabel('True Positive Rate')\n",
    "plt.title('Receiver operating characteristic of multiclass SVM Classifier')\n",
    "plt.legend(loc=\"lower right\")\n",
    "plt.show()"
   ]
  },
  {
   "cell_type": "code",
   "execution_count": null,
   "metadata": {
    "id": "03cGCgwcv2tc"
   },
   "outputs": [],
   "source": [
    "#Deepl learning neural networks"
   ]
  },
  {
   "cell_type": "code",
   "execution_count": null,
   "metadata": {
    "id": "1hTL9RsPv20-"
   },
   "outputs": [],
   "source": [
    "y_train2 = label_binarize(y_train1, classes=[0, 1, 2])\n",
    "class_weights = class_weight.compute_class_weight('balanced',\n",
    "                                                 np.unique(y_train1),\n",
    "                                                 y_train1)"
   ]
  },
  {
   "cell_type": "code",
   "execution_count": null,
   "metadata": {
    "id": "UrzQ8GZIwSdb"
   },
   "outputs": [],
   "source": [
    "\n",
    "classifier = Sequential()\n",
    "classifier.add(Dense(units=100,kernel_initializer='he_uniform',activation='relu',input_dim=x_train1.shape[1]))\n",
    "classifier.add(Dense(units=80,kernel_initializer='he_uniform',activation='relu'))\n",
    "classifier.add(Dense(units=80,kernel_initializer='he_uniform',activation='relu'))\n",
    "classifier.add(Dense(units=3,kernel_initializer='normal',activation='softmax'))\n",
    "classifier.compile(optimizer='adam',loss='categorical_crossentropy',metrics=['accuracy'])\n",
    "classifier.fit(x_train1,y_train2,batch_size=256,epochs=100,verbose=0)\n",
    "y_pred = classifier.predict(x_val1, batch_size=256)\n",
    "y_pred_bool = np.argmax(y_pred, axis=1)\n"
   ]
  },
  {
   "cell_type": "code",
   "execution_count": null,
   "metadata": {
    "colab": {
     "base_uri": "https://localhost:8080/"
    },
    "id": "9nmEy6I9GmoR",
    "outputId": "be947ed0-f2e7-4687-c188-15361e997de7"
   },
   "outputs": [
    {
     "name": "stdout",
     "output_type": "stream",
     "text": [
      "              precision    recall  f1-score   support\n",
      "\n",
      "           0       0.90      0.38      0.53        24\n",
      "           1       0.41      0.28      0.33        39\n",
      "           2       0.96      0.99      0.98       937\n",
      "\n",
      "    accuracy                           0.95      1000\n",
      "   macro avg       0.76      0.55      0.61      1000\n",
      "weighted avg       0.94      0.95      0.94      1000\n",
      "\n"
     ]
    }
   ],
   "source": [
    "print(classification_report(y_val, y_pred_bool))"
   ]
  },
  {
   "cell_type": "code",
   "execution_count": null,
   "metadata": {
    "id": "njOljDdVHBbF"
   },
   "outputs": [],
   "source": [
    "\n",
    "y_train3 = label_binarize(y_train, classes=[0, 1, 2])"
   ]
  },
  {
   "cell_type": "code",
   "execution_count": null,
   "metadata": {
    "colab": {
     "base_uri": "https://localhost:8080/"
    },
    "id": "IYkNsYw4x1UN",
    "outputId": "226e2ad1-8b49-404c-b92a-f357a8a891d2"
   },
   "outputs": [
    {
     "name": "stdout",
     "output_type": "stream",
     "text": [
      "[[ 13   2   9]\n",
      " [  2  11  26]\n",
      " [ 10  33 894]]\n",
      "              precision    recall  f1-score   support\n",
      "\n",
      "           0       0.52      0.54      0.53        24\n",
      "           1       0.24      0.28      0.26        39\n",
      "           2       0.96      0.95      0.96       937\n",
      "\n",
      "    accuracy                           0.92      1000\n",
      "   macro avg       0.57      0.59      0.58      1000\n",
      "weighted avg       0.92      0.92      0.92      1000\n",
      "\n"
     ]
    }
   ],
   "source": [
    "#for over-sampled data\n",
    "classifier = Sequential()\n",
    "classifier.add(Dense(units=50,activation='relu',input_dim=x_train.shape[1]))\n",
    "classifier.add(Dense(units=40,activation='relu'))\n",
    "classifier.add(Dense(units=150,activation='relu'))\n",
    "classifier.add(Dense(units=3,kernel_initializer='normal',activation='softmax'))\n",
    "classifier.compile(optimizer='adam',loss='categorical_crossentropy',metrics=['accuracy'])\n",
    "classifier.fit(x_train,y_train3,batch_size=256,epochs=10,verbose=0)\n",
    "y_pred = classifier.predict(x_val, batch_size=256)\n",
    "y_pred_bool = np.argmax(y_pred, axis=1)\n",
    "print(confusion_matrix(y_val, y_pred_bool))\n",
    "print(classification_report(y_val, y_pred_bool))"
   ]
  },
  {
   "cell_type": "code",
   "execution_count": null,
   "metadata": {
    "id": "-SdC-QjByKpH"
   },
   "outputs": [],
   "source": [
    "#XGboost + oversampled_multinomial_NB"
   ]
  },
  {
   "cell_type": "code",
   "execution_count": null,
   "metadata": {
    "colab": {
     "base_uri": "https://localhost:8080/"
    },
    "id": "4DPZzQ-pyIxp",
    "outputId": "2eda74bc-fd16-40df-c86e-19262a477138"
   },
   "outputs": [
    {
     "name": "stdout",
     "output_type": "stream",
     "text": [
      "[[ 13   3   8]\n",
      " [  5  16  18]\n",
      " [ 12  93 832]]\n",
      "              precision    recall  f1-score   support\n",
      "\n",
      "           0       0.43      0.54      0.48        24\n",
      "           1       0.14      0.41      0.21        39\n",
      "           2       0.97      0.89      0.93       937\n",
      "\n",
      "    accuracy                           0.86      1000\n",
      "   macro avg       0.52      0.61      0.54      1000\n",
      "weighted avg       0.92      0.86      0.89      1000\n",
      "\n",
      "accuracy :  86.1\n"
     ]
    }
   ],
   "source": [
    "\n",
    "from sklearn.ensemble import VotingClassifier\n",
    "model1 = MultinomialNB()\n",
    "model2 =  XGBClassifier(n_estimators=1000,max_depth=6)\n",
    "model = VotingClassifier(estimators=[('lr', model1), ('dt', model2)], voting='hard')\n",
    "model.fit(x_train,y_train)\n",
    "y_pred = model.predict(x_val)\n",
    "print(confusion_matrix(y_true=y_val, y_pred=y_pred))\n",
    "print(classification_report(y_true=y_val, y_pred=y_pred))\n",
    "print(\"accuracy : \",accuracy_score(y_val, y_pred)*100)"
   ]
  },
  {
   "cell_type": "code",
   "execution_count": null,
   "metadata": {
    "id": "8YztIMLCyho9"
   },
   "outputs": [],
   "source": [
    "#sentiment score"
   ]
  },
  {
   "cell_type": "code",
   "execution_count": null,
   "metadata": {
    "colab": {
     "base_uri": "https://localhost:8080/"
    },
    "id": "8SI3gNslygYO",
    "outputId": "b4b2ebb0-35f4-443e-d382-809bced11943"
   },
   "outputs": [
    {
     "data": {
      "text/plain": [
       "0     (0.37479166666666663, 0.6791666666666667)\n",
       "1    (0.45821428571428574, 0.49821428571428567)\n",
       "2                    (0.69, 0.6033333333333335)\n",
       "3                              (0.1875, 0.4375)\n",
       "4                   (0.6000000000000001, 0.725)\n",
       "Name: senti_score, dtype: object"
      ]
     },
     "execution_count": 39,
     "metadata": {},
     "output_type": "execute_result"
    }
   ],
   "source": [
    "from textblob import TextBlob\n",
    "def senti(x):\n",
    "    return TextBlob(x).sentiment \n",
    "def polarity(x):\n",
    "    return TextBlob(x).polarity+1\n",
    " \n",
    "train['senti_score'] = train['reviews.text'].apply(senti)\n",
    "test_val['senti_score'] = test_val['reviews.text'].apply(senti)\n",
    "\n",
    "train['polarity'] =train['reviews.text'].apply(polarity)\n",
    "test_val['polarity'] = test_val['reviews.text'].apply(polarity)\n",
    "\n",
    "train.senti_score.head()"
   ]
  },
  {
   "cell_type": "code",
   "execution_count": null,
   "metadata": {
    "id": "fMxyvMYyymyR"
   },
   "outputs": [],
   "source": [
    "Train = pd.concat([train.drop(['reviews.text','reviews.title','sentiment','senti_score'],axis=1),tvec_text1, tvec_title1],axis=1)\n",
    "Test_Val = pd.concat([test_val.drop(['reviews.text','reviews.title','sentiment','senti_score'],axis=1),tvec_text2, tvec_title2],axis=1)\n",
    "x_train=Train.values\n",
    "y_train=train['sentiment']\n",
    "x_val=Test_Val.values\n",
    "y_val = test_val['sentiment']"
   ]
  },
  {
   "cell_type": "code",
   "execution_count": null,
   "metadata": {
    "colab": {
     "base_uri": "https://localhost:8080/"
    },
    "id": "Fe8yW0lIy2b4",
    "outputId": "b08422dd-c7d1-441b-ac9f-6b660a3ab929"
   },
   "outputs": [
    {
     "name": "stdout",
     "output_type": "stream",
     "text": [
      "[[ 12   4   8]\n",
      " [  4  14  21]\n",
      " [  8  90 839]]\n",
      "              precision    recall  f1-score   support\n",
      "\n",
      "           0       0.50      0.50      0.50        24\n",
      "           1       0.13      0.36      0.19        39\n",
      "           2       0.97      0.90      0.93       937\n",
      "\n",
      "    accuracy                           0.86      1000\n",
      "   macro avg       0.53      0.58      0.54      1000\n",
      "weighted avg       0.92      0.86      0.89      1000\n",
      "\n",
      "86.5\n",
      "0.9524454069662516\n",
      "0.865\n"
     ]
    }
   ],
   "source": [
    "\n",
    "nb = MultinomialNB()\n",
    "nb.fit(x_train,y_train)\n",
    "y_pred = nb.predict(x_val)\n",
    "print(confusion_matrix(y_true=y_val, y_pred=y_pred))\n",
    "print(classification_report(y_true=y_val, y_pred=y_pred))\n",
    "print(accuracy_score(y_val, y_pred)*100)\n",
    "print(nb.score(x_train,y_train))\n",
    "print(nb.score(x_val,y_val))"
   ]
  },
  {
   "cell_type": "code",
   "execution_count": null,
   "metadata": {
    "id": "7-vRCl2Ty52k"
   },
   "outputs": [],
   "source": [
    "#LSTM"
   ]
  },
  {
   "cell_type": "code",
   "execution_count": null,
   "metadata": {
    "colab": {
     "base_uri": "https://localhost:8080/"
    },
    "id": "uWBqPsLszDdv",
    "outputId": "b906e974-4be4-4ce9-cce4-f1bfb073b5d6"
   },
   "outputs": [
    {
     "name": "stdout",
     "output_type": "stream",
     "text": [
      "Epoch 1/3\n",
      "2/2 [==============================] - 42s 14s/step - loss: 1.1058 - acc: 0.3251\n",
      "Epoch 2/3\n",
      "2/2 [==============================] - 44s 14s/step - loss: 1.0914 - acc: 0.4113\n",
      "Epoch 3/3\n",
      "2/2 [==============================] - 35s 15s/step - loss: 1.0848 - acc: 0.3744\n",
      "[[  0  24   0]\n",
      " [  0  39   0]\n",
      " [  0 937   0]]\n",
      "              precision    recall  f1-score   support\n",
      "\n",
      "           0       0.00      0.00      0.00        24\n",
      "           1       0.04      1.00      0.08        39\n",
      "           2       0.00      0.00      0.00       937\n",
      "\n",
      "    accuracy                           0.04      1000\n",
      "   macro avg       0.01      0.33      0.03      1000\n",
      "weighted avg       0.00      0.04      0.00      1000\n",
      "\n"
     ]
    },
    {
     "name": "stderr",
     "output_type": "stream",
     "text": [
      "/usr/local/lib/python3.7/dist-packages/sklearn/metrics/_classification.py:1272: UndefinedMetricWarning: Precision and F-score are ill-defined and being set to 0.0 in labels with no predicted samples. Use `zero_division` parameter to control this behavior.\n",
      "  _warn_prf(average, modifier, msg_start, len(result))\n"
     ]
    }
   ],
   "source": [
    "#for over_sampled data\n",
    "y_train2 = label_binarize(y_train, classes=[0, 1, 2])\n",
    "emb_dim = 128                                                 \n",
    "epochs = 3\n",
    "batch_size = 256\n",
    "model = Sequential()\n",
    "model.add(Embedding(x_train.shape[1], emb_dim, input_length=x_train.shape[1]))\n",
    "model.add(SpatialDropout1D(0.7))\n",
    "model.add(LSTM(64, dropout=0.7, recurrent_dropout=0.7))\n",
    "model.add(Dense(3, activation='softmax'))\n",
    "model.compile(optimizer='adam', loss='categorical_crossentropy', metrics=['acc'])\n",
    "model.fit(x_train, y_train2, epochs=epochs, batch_size=batch_size)\n",
    "y_pred = model.predict(x_val, batch_size=100)\n",
    "y_pred_bool = np.argmax(y_pred, axis=1)\n",
    "print(confusion_matrix(y_val, y_pred_bool))\n",
    "print(classification_report(y_val, y_pred_bool))"
   ]
  },
  {
   "cell_type": "code",
   "execution_count": null,
   "metadata": {
    "id": "ZKXFGRRfzLYP"
   },
   "outputs": [],
   "source": [
    "#GRU"
   ]
  },
  {
   "cell_type": "code",
   "execution_count": null,
   "metadata": {
    "colab": {
     "base_uri": "https://localhost:8080/"
    },
    "id": "AdVs1XdWzMrX",
    "outputId": "7029bae2-b125-483c-877f-5b5c34db2d3b"
   },
   "outputs": [
    {
     "name": "stdout",
     "output_type": "stream",
     "text": [
      "Epoch 1/3\n"
     ]
    }
   ],
   "source": [
    "y_train2 = label_binarize(y_train1, classes=[0, 1, 2])\n",
    "epochs = 3\n",
    "emb_dim = 128\n",
    "batch_size = 256\n",
    "model = Sequential()\n",
    "model.add(Embedding(x_train1.shape[1], emb_dim, input_length=x_train1.shape[1]))\n",
    "#model.add(SpatialDropout1D(0.7))\n",
    "model.add(GRU(64, dropout=0.3, recurrent_dropout=0.3))\n",
    "model.add(Dense(3, activation='softmax'))\n",
    "model.compile(optimizer='adam', loss='categorical_crossentropy', metrics=['acc'])\n",
    "model.fit(x_train1, y_train2, epochs=epochs, batch_size=batch_size)\n",
    "y_pred = model.predict(x_val1, batch_size=100)\n",
    "y_pred_bool = np.argmax(y_pred, axis=1)\n",
    "print(confusion_matrix(y_val1, y_pred_bool))\n",
    "print(classification_report(y_val1, y_pred_bool))"
   ]
  },
  {
   "cell_type": "code",
   "execution_count": null,
   "metadata": {
    "id": "dF881FEsnP6O"
   },
   "outputs": [],
   "source": [
    "#session geting crashed for GRU"
   ]
  },
  {
   "cell_type": "code",
   "execution_count": null,
   "metadata": {
    "id": "I6s72xv8zTC4"
   },
   "outputs": [],
   "source": [
    "#Neural nets performing good in solving class imbalance problem but not as good as traditional ML agorithms"
   ]
  },
  {
   "cell_type": "code",
   "execution_count": null,
   "metadata": {
    "id": "VT0mGn5Pzd2F"
   },
   "outputs": [],
   "source": [
    "#clustering"
   ]
  },
  {
   "cell_type": "code",
   "execution_count": 28,
   "metadata": {
    "colab": {
     "base_uri": "https://localhost:8080/",
     "height": 295
    },
    "id": "35Uaoj5Sztqw",
    "outputId": "cea7dbc6-9e4e-4f33-8c14-382602b1036a"
   },
   "outputs": [
    {
     "data": {
      "image/png": "[encoded data removed]",
      "text/plain": [
       "<Figure size 432x288 with 1 Axes>"
      ]
     },
     "metadata": {
      "needs_background": "light"
     },
     "output_type": "display_data"
    }
   ],
   "source": [
    "from sklearn.cluster import KMeans\n",
    "wcss = []\n",
    "for i in range(1,15):\n",
    "    kmeans = KMeans(n_clusters=i,init='k-means++',max_iter=300,n_init=10,random_state=0,n_jobs=-1)\n",
    "    kmeans.fit(reviews)\n",
    "    wcss.append(kmeans.inertia_)\n",
    "plt.plot(range(1,15),wcss)\n",
    "plt.title('The Elbow Method')\n",
    "plt.xlabel('Number of clusters')\n",
    "plt.ylabel('WCSS')\n",
    "plt.show()"
   ]
  },
  {
   "cell_type": "code",
   "execution_count": 29,
   "metadata": {
    "colab": {
     "base_uri": "https://localhost:8080/"
    },
    "id": "JYWOwszqzx5-",
    "outputId": "d8317096-add1-4222-ccfb-76a725eee850"
   },
   "outputs": [
    {
     "name": "stdout",
     "output_type": "stream",
     "text": [
      "0 : kindl, love, read, upgrad, great, best, better, screen, replac, bought, easi, second, model, like, year, light, veri, size, purchas, use, origin, version, tablet, want, price\n",
      "1 : book, read, kindl, love, great, easi, light, game, tablet, reader, size, just, download, need, like, screen, purchas, perfect, want, devic, carri, watch, bought, use, onli\n",
      "2 : tablet, love, bought, like, app, amazon, work, doe, screen, need, purchas, time, just, price, perfect, use, realli, want, better, onli, product, recommend, easi, best, child\n",
      "3 : great, work, tablet, price, product, love, recommend, easi, sound, littl, bought, best, just, need, friend, purchas, color, like, featur, app, nice, speaker, awesom, valu, movi\n",
      "4 : echo, plus, love, great, amazon, sound, video, music, home, like, work, alexa, devic, product, screen, better, light, smart, featur, bulb, hous, famili, easi, addit, purchas\n",
      "5 : good, tablet, price, veri, product, work, great, qualiti, easi, sound, pretti, read, nice, love, recommend, pictur, devic, amazon, speaker, size, just, video, deal, play, need\n",
      "6 : year, game, love, play, tablet, bought, grandson, granddaught, purchas, perfect, watch, great, enjoy, learn, easi, read, app, parent, child, movi, educ, time, christma, book, amazon\n",
      "7 : daughter, love, tablet, bought, easi, play, great, purchas, grand, year, like, game, enjoy, absolut, learn, christma, time, veri, realli, gift, exact, busi, doe, need, watch\n",
      "8 : veri, easi, love, happi, tablet, product, great, bought, purchas, pleas, grandson, use, fast, durabl, nice, price, thing, qualiti, amazon, work, learn, enjoy, child, best, year\n",
      "9 : alexa, music, love, home, light, play, smart, devic, question, listen, great, turn, speaker, thing, hous, like, just, control, abl, weather, product, amazon, sound, famili, kitchen\n",
      "10 : kid, tablet, great, love, easi, app, good, amazon, bought, game, price, littl, free, awesom, parent, recommend, adult, entertain, time, like, play, product, learn, kindl, grandson\n",
      "11 : gift, christma, love, bought, purchas, great, absolut, wife, gave, tablet, birthday, price, easi, kindl, product, year, mother, perfect, famili, grandson, enjoy, veri, work, like, amazon\n"
     ]
    }
   ],
   "source": [
    "#12 clusters\n",
    "kmeans = KMeans(n_clusters = 12, n_init = 20, n_jobs = -1) \n",
    "kmeans.fit(reviews)\n",
    "# We look at 6 the clusters generated by k-means.\n",
    "common_words = kmeans.cluster_centers_.argsort()[:,-1:-26:-1]\n",
    "for num, centroid in enumerate(common_words):\n",
    "    print(str(num) + ' : ' + ', '.join(words[word] for word in centroid))"
   ]
  },
  {
   "cell_type": "code",
   "execution_count": 30,
   "metadata": {
    "colab": {
     "base_uri": "https://localhost:8080/"
    },
    "id": "Xr86MfYcz3Cy",
    "outputId": "947a3393-fbf6-459f-9cb7-35ed8d35f78f"
   },
   "outputs": [
    {
     "name": "stdout",
     "output_type": "stream",
     "text": [
      "0 : kindl, good, screen, like, easi, love, better, use, devic, bought, amazon, just, purchas, work, product, time, doe, realli, enjoy, want, need, best, price, sound, onli\n",
      "1 : great, work, product, price, easi, recommend, love, sound, tablet, good, life, batteri, friend, like, home, app, speaker, purchas, best, camera, bought, just, need, awesom, valu\n",
      "2 : kid, great, tablet, love, easi, app, good, game, price, bought, amazon, play, littl, parent, awesom, like, recommend, entertain, free, adult, time, learn, kindl, control, grandson\n",
      "3 : veri, easi, product, happi, good, tablet, love, great, purchas, kindl, price, nice, help, pleas, bought, durabl, satisfi, work, best, grandson, qualiti, recommend, time, learn, child\n",
      "4 : gift, love, christma, bought, purchas, great, price, wife, perfect, absolut, tablet, easi, kindl, gave, year, good, birthday, veri, product, mother, enjoy, work, game, like, famili\n",
      "5 : tablet, great, price, good, app, love, need, game, amazon, perfect, play, child, year, easi, purchas, like, doe, just, work, nice, bought, time, littl, read, recommend\n",
      "6 : echo, plus, love, great, amazon, sound, music, video, home, like, devic, work, product, light, alexa, smart, better, featur, screen, hous, bulb, easi, purchas, famili, addit\n",
      "7 : love, bought, year, daughter, easi, grandson, tablet, game, play, christma, granddaught, kindl, purchas, parent, absolut, watch, learn, grandkid, birthday, great, nephew, product, control, app, perfect\n",
      "8 : alexa, music, love, light, play, question, turn, home, thing, great, famili, just, hous, like, devic, speaker, listen, echo, amazon, abl, smart, answer, product, control, use\n",
      "9 : read, book, kindl, love, game, easi, great, light, size, reader, like, download, purchas, devic, just, screen, good, need, want, perfect, movi, tablet, watch, bought, carri\n"
     ]
    }
   ],
   "source": [
    "#10 clusters\n",
    "kmeans = KMeans(n_clusters = 10, n_init = 20, n_jobs = -1) \n",
    "kmeans.fit(reviews)\n",
    "# We look at 6 the clusters generated by k-means.\n",
    "common_words = kmeans.cluster_centers_.argsort()[:,-1:-26:-1]\n",
    "for num, centroid in enumerate(common_words):\n",
    "    print(str(num) + ' : ' + ', '.join(words[word] for word in centroid))"
   ]
  },
  {
   "cell_type": "code",
   "execution_count": null,
   "metadata": {
    "id": "ts8s6bxL0ClM"
   },
   "outputs": [],
   "source": [
    "tpoic modelling"
   ]
  },
  {
   "cell_type": "code",
   "execution_count": 31,
   "metadata": {
    "colab": {
     "base_uri": "https://localhost:8080/"
    },
    "id": "8Lp7YZVt0HYS",
    "outputId": "a0e58394-f022-4def-e472-28121826a61f"
   },
   "outputs": [
    {
     "name": "stdout",
     "output_type": "stream",
     "text": [
      "Topics found via LDA:\n",
      "\n",
      "Topic #0:\n",
      "tablet doe time good batteri amazon read kid limit everyth\n",
      "\n",
      "Topic #1:\n",
      "kindl better wife great love replac sound smart echo home\n",
      "\n",
      "Topic #2:\n",
      "music great play video question amazon work internet echo answer\n",
      "\n",
      "Topic #3:\n",
      "echo great featur sound work screen camera expect like alexa\n",
      "\n",
      "Topic #4:\n",
      "tablet love great kid recommend game year easi bought friend\n",
      "\n",
      "Topic #5:\n",
      "veri great product easi good tablet purchas love happi price\n",
      "\n",
      "Topic #6:\n",
      "love alexa echo bought christma gift light famili music hous\n",
      "\n",
      "Topic #7:\n",
      "easi need tablet great love easier doe good amazon veri\n",
      "\n",
      "Topic #8:\n",
      "read book kindl love tablet perfect great light watch size\n",
      "\n",
      "Topic #9:\n",
      "tablet veri great fast love easi bought kindl function conveni\n"
     ]
    }
   ],
   "source": [
    "from sklearn.decomposition import LatentDirichletAllocation as LDA\n",
    "# Helper function\n",
    "def print_topics(model, count_vectorizer, n_top_words):\n",
    "    words = count_vectorizer.get_feature_names()\n",
    "    for topic_idx, topic in enumerate(model.components_):\n",
    "        print(\"\\nTopic #%d:\" % topic_idx)\n",
    "        print(\" \".join([words[i]\n",
    "                        for i in topic.argsort()[:-n_top_words - 1:-1]]))\n",
    "# Tweak the two parameters below\n",
    "number_topics = 10\n",
    "number_words = 10\n",
    "# Create and fit the LDA model\n",
    "lda = LDA(n_components=number_topics, n_jobs=-1)\n",
    "lda.fit(reviews)\n",
    "# Print the topics found by the LDA model\n",
    "print(\"Topics found via LDA:\")\n",
    "print_topics(lda, tvec3, number_words)"
   ]
  }
 ],
 "metadata": {
  "colab": {
   "collapsed_sections": [],
   "name": "EcommerceAIcapstone.ipynb",
   "provenance": []
  },
  "kernelspec": {
   "display_name": "Python 3",
   "language": "python",
   "name": "python3"
  },
  "language_info": {
   "codemirror_mode": {
    "name": "ipython",
    "version": 3
   },
   "file_extension": ".py",
   "mimetype": "text/x-python",
   "name": "python",
   "nbconvert_exporter": "python",
   "pygments_lexer": "ipython3",
   "version": "3.7.6"
  }
 },
 "nbformat": 4,
 "nbformat_minor": 4
}
